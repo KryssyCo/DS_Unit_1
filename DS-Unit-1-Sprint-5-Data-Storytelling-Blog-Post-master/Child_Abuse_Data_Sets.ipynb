{
  "nbformat": 4,
  "nbformat_minor": 0,
  "metadata": {
    "colab": {
      "name": "Child Abuse Data Sets.ipynb",
      "version": "0.3.2",
      "provenance": [],
      "collapsed_sections": [],
      "include_colab_link": true
    },
    "kernelspec": {
      "name": "python3",
      "display_name": "Python 3"
    }
  },
  "cells": [
    {
      "cell_type": "markdown",
      "metadata": {
        "id": "view-in-github",
        "colab_type": "text"
      },
      "source": [
        "<a href=\"https://colab.research.google.com/github/KryssyCo/DS-Unit-1-Sprint-5-Data-Storytelling-Blog-Post/blob/master/Child_Abuse_Data_Sets.ipynb\" target=\"_parent\"><img src=\"https://colab.research.google.com/assets/colab-badge.svg\" alt=\"Open In Colab\"/></a>"
      ]
    },
    {
      "cell_type": "markdown",
      "metadata": {
        "id": "6GIext8AWa0-",
        "colab_type": "text"
      },
      "source": [
        "## **Can use the data for National to compare to Children in Foster Care**"
      ]
    },
    {
      "cell_type": "code",
      "metadata": {
        "id": "TweLCEBh3TcQ",
        "colab_type": "code",
        "colab": {
          "resources": {
            "http://localhost:8080/nbextensions/google.colab/files.js": {
              "data": "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",
              "ok": true,
              "headers": [
                [
                  "content-type",
                  "application/javascript"
                ]
              ],
              "status": 200,
              "status_text": ""
            }
          },
          "base_uri": "https://localhost:8080/",
          "height": 444
        },
        "outputId": "a4e29266-ce5d-4dd2-ac39-e26b4f8989a8"
      },
      "source": [
        "import pandas as pd\n",
        "from google.colab import files\n",
        "uploaded = files.upload()"
      ],
      "execution_count": 2,
      "outputs": [
        {
          "output_type": "display_data",
          "data": {
            "text/html": [
              "\n",
              "     <input type=\"file\" id=\"files-e8e6122a-6d4c-41ed-bbd0-0b97424b65d1\" name=\"files[]\" multiple disabled />\n",
              "     <output id=\"result-e8e6122a-6d4c-41ed-bbd0-0b97424b65d1\">\n",
              "      Upload widget is only available when the cell has been executed in the\n",
              "      current browser session. Please rerun this cell to enable.\n",
              "      </output>\n",
              "      <script src=\"/nbextensions/google.colab/files.js\"></script> "
            ],
            "text/plain": [
              "<IPython.core.display.HTML object>"
            ]
          },
          "metadata": {
            "tags": []
          }
        },
        {
          "output_type": "stream",
          "text": [
            "Saving Child Fatalities by Submission.csv to Child Fatalities by Submission (3).csv\n",
            "Saving Child Fatalities.csv to Child Fatalities (3).csv\n",
            "Saving Child victims 2013_2017csv.csv to Child victims 2013_2017csv (3).csv\n",
            "Saving Children by Disposition.csv to Children by Disposition (3).csv\n",
            "Saving Children Who Received and Invest.csv to Children Who Received and Invest (3).csv\n",
            "Saving Combined CM 2017 data tables (3).xlsx to Combined CM 2017 data tables (3) (3).xlsx\n",
            "Saving Combined CM 2017 data tables (updated).csv to Combined CM 2017 data tables (updated) (3).csv\n",
            "Saving MAltreatment Types of Victims 2.csv to MAltreatment Types of Victims 2 (3).csv\n",
            "Saving Perps 2013_2017.csv to Perps 2013_2017 (3).csv\n",
            "Saving Perps by Relationship to victim.csv to Perps by Relationship to victim (3).csv\n",
            "Saving Screened_In and Screened_Out.csv to Screened_In and Screened_Out (3).csv\n",
            "Saving Victims by Age 2017.csv to Victims by Age 2017 (3).csv\n"
          ],
          "name": "stdout"
        }
      ]
    },
    {
      "cell_type": "code",
      "metadata": {
        "id": "orJ4xrL53dEi",
        "colab_type": "code",
        "colab": {
          "base_uri": "https://localhost:8080/",
          "height": 366
        },
        "outputId": "a469f80c-1367-49ee-fb11-3b1b80c7c7b6"
      },
      "source": [
        "## Put ages in bins\n",
        "victims_age = pd.read_csv('Combined CM 2017 data tables (1).csv')\n",
        "print(victims_age.shape)\n",
        "victims_age.tail()"
      ],
      "execution_count": 5,
      "outputs": [
        {
          "output_type": "stream",
          "text": [
            "(53, 39)\n"
          ],
          "name": "stdout"
        },
        {
          "output_type": "execute_result",
          "data": {
            "text/html": [
              "<div>\n",
              "<style scoped>\n",
              "    .dataframe tbody tr th:only-of-type {\n",
              "        vertical-align: middle;\n",
              "    }\n",
              "\n",
              "    .dataframe tbody tr th {\n",
              "        vertical-align: top;\n",
              "    }\n",
              "\n",
              "    .dataframe thead th {\n",
              "        text-align: right;\n",
              "    }\n",
              "</style>\n",
              "<table border=\"1\" class=\"dataframe\">\n",
              "  <thead>\n",
              "    <tr style=\"text-align: right;\">\n",
              "      <th></th>\n",
              "      <th>State</th>\n",
              "      <th>Victims (unique count) Age &lt;1</th>\n",
              "      <th>Victims (unique count) Age 1</th>\n",
              "      <th>Victims (unique count) Age 2</th>\n",
              "      <th>Victims (unique count) Age 3</th>\n",
              "      <th>Victims (unique count) Age 4</th>\n",
              "      <th>Victims (unique count) Age 5</th>\n",
              "      <th>Victims (unique count) Age 6</th>\n",
              "      <th>Victims (unique count) Age 7</th>\n",
              "      <th>Victims (unique count) Age 8</th>\n",
              "      <th>Victims (unique count) Age 9</th>\n",
              "      <th>Victims (unique count) Age 10</th>\n",
              "      <th>Victims (unique count) Age 11</th>\n",
              "      <th>Victims (unique count) Age 12</th>\n",
              "      <th>Victims (unique count) Age 13</th>\n",
              "      <th>Victims (unique count) Age 14</th>\n",
              "      <th>Victims (unique count) Age 15</th>\n",
              "      <th>Victims (unique count) Age 16</th>\n",
              "      <th>Victims (unique count) Age 17</th>\n",
              "      <th>Victims (unique count) Age Unborn, Unknown, and 18-21</th>\n",
              "      <th>Victims (unique count) Total</th>\n",
              "      <th>Victims Age &lt;1  \n",
              "Rate per 1,000 Children</th>\n",
              "      <th>Victims Age 1 \n",
              "Rate per 1,000 Children</th>\n",
              "      <th>Victims Age 2 \n",
              "Rate per 1,000 Children</th>\n",
              "      <th>Victims Age 3 \n",
              "Rate per 1,000 Children</th>\n",
              "      <th>Victims Age 4 \n",
              "Rate per 1,000 Children</th>\n",
              "      <th>Victims Age 5 \n",
              "Rate per 1,000 Children</th>\n",
              "      <th>Victims Age 6 \n",
              "Rate per 1,000 Children</th>\n",
              "      <th>Victims Age 7 \n",
              "Rate per 1,000 Children</th>\n",
              "      <th>Victims Age 8 \n",
              "Rate per 1,000 Children</th>\n",
              "      <th>Victims Age 9 \n",
              "Rate per 1,000 Children</th>\n",
              "      <th>Victims Age 10\n",
              "Rate per 1,000 Children</th>\n",
              "      <th>Victims Age 11\n",
              "Rate per 1,000 Children</th>\n",
              "      <th>Victims Age 12\n",
              "Rate per 1,000 Children</th>\n",
              "      <th>Victims Age 13\n",
              "Rate per 1,000 Children</th>\n",
              "      <th>Victims Age 14\n",
              "Rate per 1,000 Children</th>\n",
              "      <th>Victims Age 15\n",
              "Rate per 1,000 Children</th>\n",
              "      <th>Victims Age 16\n",
              "Rate per 1,000 Children</th>\n",
              "      <th>Victims Age 17\n",
              "Rate per 1,000 Children</th>\n",
              "    </tr>\n",
              "  </thead>\n",
              "  <tbody>\n",
              "    <tr>\n",
              "      <th>48</th>\n",
              "      <td>Washington</td>\n",
              "      <td>437</td>\n",
              "      <td>331</td>\n",
              "      <td>357</td>\n",
              "      <td>340</td>\n",
              "      <td>287</td>\n",
              "      <td>263</td>\n",
              "      <td>279</td>\n",
              "      <td>238</td>\n",
              "      <td>269</td>\n",
              "      <td>221</td>\n",
              "      <td>212</td>\n",
              "      <td>185</td>\n",
              "      <td>179</td>\n",
              "      <td>210</td>\n",
              "      <td>188</td>\n",
              "      <td>152</td>\n",
              "      <td>137</td>\n",
              "      <td>98</td>\n",
              "      <td>3</td>\n",
              "      <td>4,386</td>\n",
              "      <td>4.8</td>\n",
              "      <td>3.6</td>\n",
              "      <td>3.9</td>\n",
              "      <td>3.7</td>\n",
              "      <td>3.1</td>\n",
              "      <td>2.9</td>\n",
              "      <td>3.0</td>\n",
              "      <td>2.6</td>\n",
              "      <td>2.9</td>\n",
              "      <td>2.4</td>\n",
              "      <td>2.3</td>\n",
              "      <td>2.0</td>\n",
              "      <td>2.0</td>\n",
              "      <td>2.3</td>\n",
              "      <td>2.1</td>\n",
              "      <td>1.7</td>\n",
              "      <td>1.5</td>\n",
              "      <td>1.1</td>\n",
              "    </tr>\n",
              "    <tr>\n",
              "      <th>49</th>\n",
              "      <td>West Virginia</td>\n",
              "      <td>1,118</td>\n",
              "      <td>430</td>\n",
              "      <td>421</td>\n",
              "      <td>409</td>\n",
              "      <td>409</td>\n",
              "      <td>373</td>\n",
              "      <td>414</td>\n",
              "      <td>407</td>\n",
              "      <td>345</td>\n",
              "      <td>323</td>\n",
              "      <td>289</td>\n",
              "      <td>275</td>\n",
              "      <td>269</td>\n",
              "      <td>228</td>\n",
              "      <td>216</td>\n",
              "      <td>218</td>\n",
              "      <td>196</td>\n",
              "      <td>131</td>\n",
              "      <td>25</td>\n",
              "      <td>6,496</td>\n",
              "      <td>59.0</td>\n",
              "      <td>22.3</td>\n",
              "      <td>21.3</td>\n",
              "      <td>20.4</td>\n",
              "      <td>20.0</td>\n",
              "      <td>18.3</td>\n",
              "      <td>20.4</td>\n",
              "      <td>20.2</td>\n",
              "      <td>17.0</td>\n",
              "      <td>15.4</td>\n",
              "      <td>13.8</td>\n",
              "      <td>13.2</td>\n",
              "      <td>13.0</td>\n",
              "      <td>10.8</td>\n",
              "      <td>10.3</td>\n",
              "      <td>10.3</td>\n",
              "      <td>9.2</td>\n",
              "      <td>5.9</td>\n",
              "    </tr>\n",
              "    <tr>\n",
              "      <th>50</th>\n",
              "      <td>Wisconsin</td>\n",
              "      <td>541</td>\n",
              "      <td>339</td>\n",
              "      <td>356</td>\n",
              "      <td>323</td>\n",
              "      <td>364</td>\n",
              "      <td>294</td>\n",
              "      <td>293</td>\n",
              "      <td>270</td>\n",
              "      <td>300</td>\n",
              "      <td>247</td>\n",
              "      <td>252</td>\n",
              "      <td>212</td>\n",
              "      <td>215</td>\n",
              "      <td>195</td>\n",
              "      <td>195</td>\n",
              "      <td>213</td>\n",
              "      <td>177</td>\n",
              "      <td>99</td>\n",
              "      <td>17</td>\n",
              "      <td>4,902</td>\n",
              "      <td>8.2</td>\n",
              "      <td>5.1</td>\n",
              "      <td>5.3</td>\n",
              "      <td>4.8</td>\n",
              "      <td>5.4</td>\n",
              "      <td>4.3</td>\n",
              "      <td>4.2</td>\n",
              "      <td>3.8</td>\n",
              "      <td>4.2</td>\n",
              "      <td>3.4</td>\n",
              "      <td>3.4</td>\n",
              "      <td>2.9</td>\n",
              "      <td>2.9</td>\n",
              "      <td>2.6</td>\n",
              "      <td>2.6</td>\n",
              "      <td>2.9</td>\n",
              "      <td>2.4</td>\n",
              "      <td>1.3</td>\n",
              "    </tr>\n",
              "    <tr>\n",
              "      <th>51</th>\n",
              "      <td>Wyoming</td>\n",
              "      <td>115</td>\n",
              "      <td>78</td>\n",
              "      <td>64</td>\n",
              "      <td>83</td>\n",
              "      <td>67</td>\n",
              "      <td>54</td>\n",
              "      <td>66</td>\n",
              "      <td>44</td>\n",
              "      <td>63</td>\n",
              "      <td>48</td>\n",
              "      <td>53</td>\n",
              "      <td>30</td>\n",
              "      <td>42</td>\n",
              "      <td>30</td>\n",
              "      <td>36</td>\n",
              "      <td>35</td>\n",
              "      <td>22</td>\n",
              "      <td>17</td>\n",
              "      <td>3</td>\n",
              "      <td>950</td>\n",
              "      <td>15.4</td>\n",
              "      <td>10.6</td>\n",
              "      <td>8.6</td>\n",
              "      <td>11.2</td>\n",
              "      <td>9.0</td>\n",
              "      <td>7.3</td>\n",
              "      <td>8.8</td>\n",
              "      <td>5.6</td>\n",
              "      <td>8.0</td>\n",
              "      <td>5.9</td>\n",
              "      <td>6.6</td>\n",
              "      <td>3.8</td>\n",
              "      <td>5.3</td>\n",
              "      <td>4.0</td>\n",
              "      <td>4.8</td>\n",
              "      <td>4.8</td>\n",
              "      <td>3.1</td>\n",
              "      <td>2.3</td>\n",
              "    </tr>\n",
              "    <tr>\n",
              "      <th>52</th>\n",
              "      <td>National</td>\n",
              "      <td>100,457</td>\n",
              "      <td>46,843</td>\n",
              "      <td>44,503</td>\n",
              "      <td>41,981</td>\n",
              "      <td>40,336</td>\n",
              "      <td>39,572</td>\n",
              "      <td>38,116</td>\n",
              "      <td>37,644</td>\n",
              "      <td>36,333</td>\n",
              "      <td>34,342</td>\n",
              "      <td>31,955</td>\n",
              "      <td>28,943</td>\n",
              "      <td>28,190</td>\n",
              "      <td>27,892</td>\n",
              "      <td>27,559</td>\n",
              "      <td>26,912</td>\n",
              "      <td>23,785</td>\n",
              "      <td>15,699</td>\n",
              "      <td>2,768</td>\n",
              "      <td>673,830</td>\n",
              "      <td>25.3</td>\n",
              "      <td>11.7</td>\n",
              "      <td>11.0</td>\n",
              "      <td>10.4</td>\n",
              "      <td>10.0</td>\n",
              "      <td>9.8</td>\n",
              "      <td>9.3</td>\n",
              "      <td>9.2</td>\n",
              "      <td>8.9</td>\n",
              "      <td>8.2</td>\n",
              "      <td>7.6</td>\n",
              "      <td>6.9</td>\n",
              "      <td>6.7</td>\n",
              "      <td>6.6</td>\n",
              "      <td>6.6</td>\n",
              "      <td>6.5</td>\n",
              "      <td>5.6</td>\n",
              "      <td>3.6</td>\n",
              "    </tr>\n",
              "  </tbody>\n",
              "</table>\n",
              "</div>"
            ],
            "text/plain": [
              "            State                   ...                   Victims Age 17\\nRate per 1,000 Children\n",
              "48     Washington                   ...                                                       1.1\n",
              "49  West Virginia                   ...                                                       5.9\n",
              "50      Wisconsin                   ...                                                       1.3\n",
              "51        Wyoming                   ...                                                       2.3\n",
              "52       National                   ...                                                       3.6\n",
              "\n",
              "[5 rows x 39 columns]"
            ]
          },
          "metadata": {
            "tags": []
          },
          "execution_count": 5
        }
      ]
    },
    {
      "cell_type": "code",
      "metadata": {
        "id": "R2g7EtS8axcw",
        "colab_type": "code",
        "colab": {}
      },
      "source": [
        "## Change Colum Names\n",
        "## Bin Ages\n",
        "\n"
      ],
      "execution_count": 0,
      "outputs": []
    },
    {
      "cell_type": "code",
      "metadata": {
        "id": "z0WlDYwRVW-E",
        "colab_type": "code",
        "colab": {}
      },
      "source": [
        "victims_age.isnull().sum()"
      ],
      "execution_count": 0,
      "outputs": []
    },
    {
      "cell_type": "code",
      "metadata": {
        "id": "DmBfANHWJmN1",
        "colab_type": "code",
        "colab": {}
      },
      "source": [
        "#Has State in common\n",
        "screened = pd.read_csv('Screened_In and Screened_Out.csv')\n",
        "print(screened.shape)\n",
        "screened.tail()"
      ],
      "execution_count": 0,
      "outputs": []
    },
    {
      "cell_type": "code",
      "metadata": {
        "id": "coiJlVZ7Vj32",
        "colab_type": "code",
        "colab": {}
      },
      "source": [
        "screened.isnull().sum()"
      ],
      "execution_count": 0,
      "outputs": []
    },
    {
      "cell_type": "code",
      "metadata": {
        "id": "KPLrj8rLKd60",
        "colab_type": "code",
        "colab": {}
      },
      "source": [
        "# Has state in common\n",
        "# Can compare parent perp to parent who lost rights\n",
        "# Can compare foster parent and group home/residential facility staff.\n",
        "perp_relation = pd.read_csv('Perps by Relationship to victim (1).csv')\n",
        "print(perp_relation.shape)\n",
        "perp_relation.tail()"
      ],
      "execution_count": 0,
      "outputs": []
    },
    {
      "cell_type": "code",
      "metadata": {
        "id": "rJFGyWL-VuM3",
        "colab_type": "code",
        "colab": {}
      },
      "source": [
        "perp_relation.isnull().sum()"
      ],
      "execution_count": 0,
      "outputs": []
    },
    {
      "cell_type": "code",
      "metadata": {
        "id": "Nfly-GKEOFJM",
        "colab_type": "code",
        "colab": {}
      },
      "source": [
        "# Can only use State and 2017 perpetrators unless we are comparing to the foster \n",
        "# Care data set\n",
        "num_perps = pd.read_csv('Perps 2013_2017.csv')\n",
        "print(num_perps.shape)\n",
        "num_perps.tail()"
      ],
      "execution_count": 0,
      "outputs": []
    },
    {
      "cell_type": "code",
      "metadata": {
        "id": "gdkJZpgJV0Pl",
        "colab_type": "code",
        "colab": {}
      },
      "source": [
        "num_perps.isnull().sum()"
      ],
      "execution_count": 0,
      "outputs": []
    },
    {
      "cell_type": "code",
      "metadata": {
        "id": "Pv43sNF-Nook",
        "colab_type": "code",
        "colab": {}
      },
      "source": [
        "# Drop percentages\n",
        "# Use integers and compare to foster care data set\n",
        "maltx = pd.read_csv('MAltreatment Types of Victims 2.csv')\n",
        "print(maltx.shape)\n",
        "maltx.tail()"
      ],
      "execution_count": 0,
      "outputs": []
    },
    {
      "cell_type": "code",
      "metadata": {
        "id": "ZRSlDwEPV7Qe",
        "colab_type": "code",
        "colab": {}
      },
      "source": [
        "maltx.isnull().sum()"
      ],
      "execution_count": 0,
      "outputs": []
    },
    {
      "cell_type": "code",
      "metadata": {
        "id": "4u7fxj3QPgRU",
        "colab_type": "code",
        "colab": {}
      },
      "source": [
        "# No Useful Data\n",
        "df2 = pd.read_csv('Children Who Received and Invest.csv')\n",
        "print(df2.shape)\n",
        "df2.head()"
      ],
      "execution_count": 0,
      "outputs": []
    },
    {
      "cell_type": "code",
      "metadata": {
        "id": "6WaWKsf2QhxM",
        "colab_type": "code",
        "colab": {}
      },
      "source": [
        "# Substantiated cases, unsubstantiated cases, intentionally false, closed with no ofinding, no alleged maltreatment, total children\n",
        "# Compare to kids entering foster care.\n",
        "dispo = pd.read_csv('Children by Disposition.csv')\n",
        "print(dispo.shape)\n",
        "dispo.tail()"
      ],
      "execution_count": 0,
      "outputs": []
    },
    {
      "cell_type": "code",
      "metadata": {
        "id": "pP61cxvUWDG1",
        "colab_type": "code",
        "colab": {}
      },
      "source": [
        "dispo.isnull().sum()"
      ],
      "execution_count": 0,
      "outputs": []
    },
    {
      "cell_type": "code",
      "metadata": {
        "id": "yMLm_IJ0RgBd",
        "colab_type": "code",
        "colab": {}
      },
      "source": [
        "# Compare numbers with Foster Care Data Set\n",
        "# Check for National Data\n",
        "vic = pd.read_csv('Child victims 2013_2017csv.csv')\n",
        "print(vic.shape)\n",
        "vic.tail()"
      ],
      "execution_count": 0,
      "outputs": []
    },
    {
      "cell_type": "code",
      "metadata": {
        "id": "_BD11tnuWHkN",
        "colab_type": "code",
        "colab": {}
      },
      "source": [
        "vic.isnull().sum()"
      ],
      "execution_count": 0,
      "outputs": []
    },
    {
      "cell_type": "code",
      "metadata": {
        "id": "V7GVgAR1R-iF",
        "colab_type": "code",
        "colab": {}
      },
      "source": [
        "# No helpful data\n",
        "fatality = pd.read_csv('Child Fatalities.csv')\n",
        "print(fatality.shape)\n",
        "fatality.tail()"
      ],
      "execution_count": 0,
      "outputs": []
    },
    {
      "cell_type": "code",
      "metadata": {
        "id": "R_DLZm-rSQrU",
        "colab_type": "code",
        "colab": {}
      },
      "source": [
        "# No helpful data\n",
        "fatality_by_sub = pd.read_csv('Child Fatalities by Submission.csv')\n",
        "print(fatality_by_sub.shape)\n",
        "fatality_by_sub.tail()"
      ],
      "execution_count": 0,
      "outputs": []
    },
    {
      "cell_type": "markdown",
      "metadata": {
        "id": "mAFSKTCJXaeR",
        "colab_type": "text"
      },
      "source": [
        "## **Merge Tables**\n",
        "Merge tables to combine data. Use state as matching id."
      ]
    },
    {
      "cell_type": "code",
      "metadata": {
        "id": "YT8NfyULXp6l",
        "colab_type": "code",
        "colab": {}
      },
      "source": [
        ""
      ],
      "execution_count": 0,
      "outputs": []
    }
  ]
}