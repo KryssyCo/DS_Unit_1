{
  "nbformat": 4,
  "nbformat_minor": 0,
  "metadata": {
    "colab": {
      "name": "My Notes Hypothesis Testing Assignment 4",
      "version": "0.3.2",
      "provenance": [],
      "collapsed_sections": [],
      "include_colab_link": true
    },
    "kernelspec": {
      "name": "python3",
      "display_name": "Python 3"
    }
  },
  "cells": [
    {
      "cell_type": "markdown",
      "metadata": {
        "id": "view-in-github",
        "colab_type": "text"
      },
      "source": [
        "<a href=\"https://colab.research.google.com/github/KryssyCo/DS-Unit-1-Sprint-1-Dealing-With-Data/blob/master/My_Notes_Hypothesis_Testing_Assignment_4.ipynb\" target=\"_parent\"><img src=\"https://colab.research.google.com/assets/colab-badge.svg\" alt=\"Open In Colab\"/></a>"
      ]
    },
    {
      "cell_type": "markdown",
      "metadata": {
        "id": "d58UAkqvIuvC",
        "colab_type": "text"
      },
      "source": [
        "**LECTURE 1**\n",
        "\n",
        "***Learn the role of hypothesis testing in inferential statistics***\n",
        "\n",
        "**What we will learn:**:\n",
        "\n",
        "**Descriptive statistics**\n",
        "\n",
        "-  Standard deviation\n",
        "\n",
        "**Inferential Statistics**\n",
        "- **Null Hypothesis Significance Testing**\n",
        "- Z- Scores\n",
        "- Confidence Intervals\n",
        "\n",
        "**How we'll learn:**\n",
        "\n",
        "Computationally\n",
        "\n",
        "- For- loops\n",
        "- Random number generators\n"
      ]
    },
    {
      "cell_type": "code",
      "metadata": {
        "id": "G9M9WvM9IyaR",
        "colab_type": "code",
        "colab": {}
      },
      "source": [
        "%matplotlib inline\n",
        "import matplotlib as plt\n",
        "import numpy as np\n",
        "import pandas as pd\n",
        "import matplotlib as mpl\n",
        "      \n",
        "\n",
        "import random\n",
        "from statistics import mean, stdev"
      ],
      "execution_count": 0,
      "outputs": []
    },
    {
      "cell_type": "code",
      "metadata": {
        "id": "Ug7gHZv9QZ9J",
        "colab_type": "code",
        "outputId": "88516513-8e0e-4d9a-8dcc-5219eae2a37c",
        "colab": {
          "base_uri": "https://localhost:8080/",
          "height": 34
        }
      },
      "source": [
        "#Standard deviation\n",
        "\n",
        "apples = [.5, .4, .5, .6,.3, .7]\n",
        "mean(apples)"
      ],
      "execution_count": 0,
      "outputs": [
        {
          "output_type": "execute_result",
          "data": {
            "text/plain": [
              "0.5"
            ]
          },
          "metadata": {
            "tags": []
          },
          "execution_count": 101
        }
      ]
    },
    {
      "cell_type": "code",
      "metadata": {
        "id": "LeLEdkoZQz7C",
        "colab_type": "code",
        "outputId": "632bcf5e-9235-4dcf-9dc3-ab894df76bde",
        "colab": {
          "base_uri": "https://localhost:8080/",
          "height": 34
        }
      },
      "source": [
        "pumpkins= [1, 1, 1, 3, 3,591]\n",
        "mean(pumpkins)"
      ],
      "execution_count": 0,
      "outputs": [
        {
          "output_type": "execute_result",
          "data": {
            "text/plain": [
              "100"
            ]
          },
          "metadata": {
            "tags": []
          },
          "execution_count": 102
        }
      ]
    },
    {
      "cell_type": "markdown",
      "metadata": {
        "id": "naH9Y1p7fEvk",
        "colab_type": "text"
      },
      "source": [
        "**LESSON 2**\n",
        "\n",
        "**Standard deviation** is a number used to tell how measurements for a group are spread out from the average (mean), or expected value. A low standard deviation means that most of the numbers are very glose to average. A high standard deviation means that the numbers are spread out."
      ]
    },
    {
      "cell_type": "code",
      "metadata": {
        "id": "MFTC2OfvRqYL",
        "colab_type": "code",
        "outputId": "f8a9fddf-858c-4ce5-f169-d43930135703",
        "colab": {
          "base_uri": "https://localhost:8080/",
          "height": 34
        }
      },
      "source": [
        "mean(apples), stdev(apples)"
      ],
      "execution_count": 0,
      "outputs": [
        {
          "output_type": "execute_result",
          "data": {
            "text/plain": [
              "(0.5, 0.1414213562373095)"
            ]
          },
          "metadata": {
            "tags": []
          },
          "execution_count": 103
        }
      ]
    },
    {
      "cell_type": "code",
      "metadata": {
        "id": "MYgXf9psR_vK",
        "colab_type": "code",
        "outputId": "96425cd8-3528-42db-8fc3-69791b208a50",
        "colab": {
          "base_uri": "https://localhost:8080/",
          "height": 34
        }
      },
      "source": [
        "mean(pumpkins), stdev(pumpkins)"
      ],
      "execution_count": 0,
      "outputs": [
        {
          "output_type": "execute_result",
          "data": {
            "text/plain": [
              "(100, 240.54188824402289)"
            ]
          },
          "metadata": {
            "tags": []
          },
          "execution_count": 104
        }
      ]
    },
    {
      "cell_type": "markdown",
      "metadata": {
        "id": "vfRxDrGAT7ar",
        "colab_type": "text"
      },
      "source": [
        "**LESSON 3**\n",
        "*Learn how to calculate the z-score for a normal distribution*\n",
        "\n",
        "2. Evaluate a hypothesis\n",
        "\n",
        "Imagine a restaurant employ five dishwashers:\n",
        "  - Alice\n",
        "  - Bob\n",
        "  - Carl\n",
        "  - Dave\n",
        "  - Eric\n",
        "  \n",
        "  One week, they break fie dishes - and Carl break 4 of the 5. So his coworkers have a **hypothesis**: Carl is clumsy!\n",
        "  \n",
        "  Carl says no, it was just bad luck and a random chance: it could have happened to anybody. We call this the null **hypotheses!**\n",
        "  \n",
        "  \n",
        "  "
      ]
    },
    {
      "cell_type": "code",
      "metadata": {
        "id": "9hnssKbkVFWK",
        "colab_type": "code",
        "outputId": "35f5c9f9-5450-4ac7-8642-baacdebd41d5",
        "colab": {
          "base_uri": "https://localhost:8080/",
          "height": 296
        }
      },
      "source": [
        "def test():\n",
        "  dishwashers = ['Alice', 'Bob', 'Carl', 'dave', 'Eric']\n",
        "  breakers = [random.choice(dishwashers) for broken_dish in range(5)]\n",
        "  return breakers.count('Carl')\n",
        "  \n",
        "tests = [test() for _ in range(100000)]\n",
        "\n",
        "from matplotlib.pyplot import hist  \n",
        "from matplotlib.pyplot import hist\n",
        "histogram1 = hist(tests)\n",
        "  \n",
        "\n"
      ],
      "execution_count": 0,
      "outputs": [
        {
          "output_type": "display_data",
          "data": {
            "image/png": "[encoded data removed]",
            "text/plain": [
              "<Figure size 432x288 with 1 Axes>"
            ]
          },
          "metadata": {
            "tags": []
          }
        }
      ]
    },
    {
      "cell_type": "code",
      "metadata": {
        "id": "142i9U-TVxCr",
        "colab_type": "code",
        "outputId": "294d421d-972a-45e2-b65f-fbbd8672841b",
        "colab": {
          "base_uri": "https://localhost:8080/",
          "height": 34
        }
      },
      "source": [
        "mean(tests), stdev(tests)"
      ],
      "execution_count": 0,
      "outputs": [
        {
          "output_type": "execute_result",
          "data": {
            "text/plain": [
              "(1.00494, 0.8961381740760017)"
            ]
          },
          "metadata": {
            "tags": []
          },
          "execution_count": 106
        }
      ]
    },
    {
      "cell_type": "markdown",
      "metadata": {
        "id": "lEDOO-TpbgO8",
        "colab_type": "text"
      },
      "source": [
        "Here's the \"**standard score\":** of Carl breaking 4 dishes. It's over 3 standard deviations from the mean. \n"
      ]
    },
    {
      "cell_type": "code",
      "metadata": {
        "id": "286TQp8QcN3k",
        "colab_type": "code",
        "outputId": "0a5a3f8e-b0c2-445b-c93a-96337724ae5c",
        "colab": {
          "base_uri": "https://localhost:8080/",
          "height": 34
        }
      },
      "source": [
        "standard_score = (4 - mean(tests)) /stdev(tests)\n",
        "print(standard_score)"
      ],
      "execution_count": 0,
      "outputs": [
        {
          "output_type": "stream",
          "text": [
            "3.3421854872862364\n"
          ],
          "name": "stdout"
        }
      ]
    },
    {
      "cell_type": "markdown",
      "metadata": {
        "id": "jjaysiK7cf4k",
        "colab_type": "text"
      },
      "source": [
        "Here's how often carl breaks 4+ dishes in our Monte Carlo simulation of the nul hypothesis:"
      ]
    },
    {
      "cell_type": "code",
      "metadata": {
        "id": "37XOwSy3ctcU",
        "colab_type": "code",
        "outputId": "7ba53b50-f950-44c9-ee22-bcb680977372",
        "colab": {
          "base_uri": "https://localhost:8080/",
          "height": 34
        }
      },
      "source": [
        "sum(test>= 4 for test in tests)"
      ],
      "execution_count": 0,
      "outputs": [
        {
          "output_type": "execute_result",
          "data": {
            "text/plain": [
              "733"
            ]
          },
          "metadata": {
            "tags": []
          },
          "execution_count": 108
        }
      ]
    },
    {
      "cell_type": "markdown",
      "metadata": {
        "id": "MvSDDj4zc-Wd",
        "colab_type": "text"
      },
      "source": [
        "As a percentage:"
      ]
    },
    {
      "cell_type": "code",
      "metadata": {
        "id": "gGUTfFv1dS3c",
        "colab_type": "code",
        "outputId": "a7ddaf28-a282-41d2-e0dc-2935373e707a",
        "colab": {
          "base_uri": "https://localhost:8080/",
          "height": 34
        }
      },
      "source": [
        "sum(test >= 4 for test in tests ) / len(tests)"
      ],
      "execution_count": 0,
      "outputs": [
        {
          "output_type": "execute_result",
          "data": {
            "text/plain": [
              "0.00733"
            ]
          },
          "metadata": {
            "tags": []
          },
          "execution_count": 109
        }
      ]
    },
    {
      "cell_type": "markdown",
      "metadata": {
        "id": "cUgg2YtNjNzM",
        "colab_type": "text"
      },
      "source": [
        "This is a **p-value.**\n",
        "\n",
        "             Everyone I spoke with could tell me the technical definition of p-value - the probability of getting results at least as extreme as the ones you observed, given that the null hypothesis is correct - but almost no one could translate that into something easy to understand. - Not Even Scientists Can Easily Explain P-values"
      ]
    },
    {
      "cell_type": "code",
      "metadata": {
        "id": "2V99sCw2j5R_",
        "colab_type": "code",
        "outputId": "c2dd4ebb-975d-4b27-be27-befec823072d",
        "colab": {
          "base_uri": "https://localhost:8080/",
          "height": 34
        }
      },
      "source": [
        "p_value = mean(test >= 4 for test in tests)\n",
        "print(p_value)"
      ],
      "execution_count": 0,
      "outputs": [
        {
          "output_type": "stream",
          "text": [
            "0.00733\n"
          ],
          "name": "stdout"
        }
      ]
    },
    {
      "cell_type": "markdown",
      "metadata": {
        "id": "apyDSZFYkwr9",
        "colab_type": "text"
      },
      "source": [
        "Reject the null hypothesis - yes"
      ]
    },
    {
      "cell_type": "code",
      "metadata": {
        "id": "OVUYY59LlREl",
        "colab_type": "code",
        "outputId": "3149c875-0d54-4dd3-914b-f45180a2a629",
        "colab": {
          "base_uri": "https://localhost:8080/",
          "height": 34
        }
      },
      "source": [
        "p_value < .05"
      ],
      "execution_count": 0,
      "outputs": [
        {
          "output_type": "execute_result",
          "data": {
            "text/plain": [
              "True"
            ]
          },
          "metadata": {
            "tags": []
          },
          "execution_count": 111
        }
      ]
    },
    {
      "cell_type": "markdown",
      "metadata": {
        "id": "paMGPE6dlmaE",
        "colab_type": "text"
      },
      "source": [
        "(The p-value can be calculate in one line of code, but it becomes harder to read)"
      ]
    },
    {
      "cell_type": "code",
      "metadata": {
        "id": "FNaiNgEelxAG",
        "colab_type": "code",
        "outputId": "70785a8c-c01c-46df-ddae-c03406f20064",
        "colab": {
          "base_uri": "https://localhost:8080/",
          "height": 34
        }
      },
      "source": [
        "mean(sum(random.choice('abcde') ==\"c\" for _ in range(5)) >=4 for _ in range(100000))"
      ],
      "execution_count": 0,
      "outputs": [
        {
          "output_type": "execute_result",
          "data": {
            "text/plain": [
              "0.00699"
            ]
          },
          "metadata": {
            "tags": []
          },
          "execution_count": 112
        }
      ]
    },
    {
      "cell_type": "markdown",
      "metadata": {
        "id": "0OYkB0vZEkiB",
        "colab_type": "text"
      },
      "source": [
        "**How could we do it without computer programming superpowers?**\n",
        "\n",
        "1. Five sided dice and a lot of patience? (Half a million rolls)\n",
        "2. Or with combinatorial probability:\n",
        "\n",
        "There are 4*5 ways to get 4 C's\n",
        "\n",
        "    CCCCA\n",
        "    CCCCB\n",
        "    CCCCD\n",
        "    CCCCE\n",
        "    \n",
        "    ...\n",
        "    \n",
        "    ...\n",
        "    ECCCC\n",
        "    \n",
        "    And one way to get 5 C's\n",
        "    Out of 5**% total pissibilities"
      ]
    },
    {
      "cell_type": "code",
      "metadata": {
        "id": "lwCpNt7dICu-",
        "colab_type": "code",
        "outputId": "1d7f1acd-d10a-49f3-b9a8-e5ff9b28a230",
        "colab": {
          "base_uri": "https://localhost:8080/",
          "height": 34
        }
      },
      "source": [
        "(4*5 + 1) / 5**5"
      ],
      "execution_count": 0,
      "outputs": [
        {
          "output_type": "execute_result",
          "data": {
            "text/plain": [
              "0.00672"
            ]
          },
          "metadata": {
            "tags": []
          },
          "execution_count": 113
        }
      ]
    },
    {
      "cell_type": "markdown",
      "metadata": {
        "id": "erA6d21pIz4f",
        "colab_type": "text"
      },
      "source": [
        "**Lesson 4**\n",
        "\n",
        "**3.   Are beer drinkers more attractive to mosquitoes?**\n",
        "\n",
        "**Background**\n",
        "\n",
        "Malaria and alcohol consuption both represent major public health problems. Alcohol consumption is rising in developing countries and, as efforts to manage maleria are expanded, understanding the links between malaria and alcohol consumption becomes crucial. Our aim was to ascertain the effect of beer consumption on human attractiveness to malaria mosquitoes in semi field conditions in Burkina faso.\n",
        "\n",
        "**\"Then they trapped and counted the mosquitos. Here's the data.\"**\n",
        "\n",
        "These are the numbers that were collected in the traps for each of the volunteers"
      ]
    },
    {
      "cell_type": "code",
      "metadata": {
        "id": "YFJ2_8CwLIE6",
        "colab_type": "code",
        "colab": {}
      },
      "source": [
        "beer =[27, 19, 20, 20, 23, 17, 21, 24, 31, 26, 28, 20, 27, 19, 25, 31, 24, 28, 24, 29, 21, 21, 18, 27, 20]\n",
        "water = [21, 19, 13, 22, 15, 22, 15, 22, 20, 12, 24, 24, 21, 19, 18, 16, 23, 20]"
      ],
      "execution_count": 0,
      "outputs": []
    },
    {
      "cell_type": "markdown",
      "metadata": {
        "id": "YoI_kMAmMNv3",
        "colab_type": "text"
      },
      "source": [
        "**They had 25 volunteers who drank beer and 18 who drank water.**"
      ]
    },
    {
      "cell_type": "code",
      "metadata": {
        "id": "j-HkfZGvMbvX",
        "colab_type": "code",
        "outputId": "cb34e63d-6874-419f-8dc1-47bdc74649a5",
        "colab": {
          "base_uri": "https://localhost:8080/",
          "height": 34
        }
      },
      "source": [
        "len(beer), len(water)"
      ],
      "execution_count": 0,
      "outputs": [
        {
          "output_type": "execute_result",
          "data": {
            "text/plain": [
              "(25, 18)"
            ]
          },
          "metadata": {
            "tags": []
          },
          "execution_count": 115
        }
      ]
    },
    {
      "cell_type": "markdown",
      "metadata": {
        "id": "C2Iuo4hiMnqg",
        "colab_type": "text"
      },
      "source": [
        "We can compute the average number of mosquitos in each group..."
      ]
    },
    {
      "cell_type": "code",
      "metadata": {
        "id": "6lXNYvyXMuev",
        "colab_type": "code",
        "outputId": "a11dde9d-a816-47fc-d4fd-6b8272c4a747",
        "colab": {
          "base_uri": "https://localhost:8080/",
          "height": 34
        }
      },
      "source": [
        "mean(beer), stdev(beer)\n"
      ],
      "execution_count": 0,
      "outputs": [
        {
          "output_type": "execute_result",
          "data": {
            "text/plain": [
              "(23.6, 4.133198922545748)"
            ]
          },
          "metadata": {
            "tags": []
          },
          "execution_count": 116
        }
      ]
    },
    {
      "cell_type": "code",
      "metadata": {
        "id": "YhObRdqhN9mI",
        "colab_type": "code",
        "outputId": "e28a744a-bb5c-43e8-ed95-ff3e8bb833bd",
        "colab": {
          "base_uri": "https://localhost:8080/",
          "height": 34
        }
      },
      "source": [
        "mean(water), stdev(water)"
      ],
      "execution_count": 0,
      "outputs": [
        {
          "output_type": "execute_result",
          "data": {
            "text/plain": [
              "(19.22222222222222, 3.6711202899124045)"
            ]
          },
          "metadata": {
            "tags": []
          },
          "execution_count": 117
        }
      ]
    },
    {
      "cell_type": "markdown",
      "metadata": {
        "id": "UrC1Q990NWiQ",
        "colab_type": "text"
      },
      "source": [
        "**...and then subtract to find that the average person who drank beer attracted 4.4 more mosquitoes than the average water drinker.**\n",
        "\n"
      ]
    },
    {
      "cell_type": "code",
      "metadata": {
        "id": "59Hty2RbOdxX",
        "colab_type": "code",
        "outputId": "7855347d-8c11-4a9b-cd2d-ef51fc108cad",
        "colab": {
          "base_uri": "https://localhost:8080/",
          "height": 34
        }
      },
      "source": [
        "effect_size = mean(beer) - mean(water)\n",
        "print(effect_size)"
      ],
      "execution_count": 0,
      "outputs": [
        {
          "output_type": "stream",
          "text": [
            "4.37777777777778\n"
          ],
          "name": "stdout"
        }
      ]
    },
    {
      "cell_type": "markdown",
      "metadata": {
        "id": "6olslhxZOg6P",
        "colab_type": "text"
      },
      "source": [
        "**And now we have a statistical question.**\n",
        "\n",
        "Is a difference of 4.4 sufficient evidence to claim that drinking beer makes you more attractive to mosquitoes?"
      ]
    },
    {
      "cell_type": "markdown",
      "metadata": {
        "id": "ws_VDiPHPIAK",
        "colab_type": "text"
      },
      "source": [
        "**Permutatuion Test**\n",
        "\n",
        "If the skeptic( the null hypothesis) is right, these labels(beer or water) have absolutely no meaning. They carry no information....\n",
        "\n",
        "And so what I can do is randomly shuffle them, then compute some new means, subtract the means, and get a new difference...\n"
      ]
    },
    {
      "cell_type": "code",
      "metadata": {
        "id": "gSjxGSsCPzxb",
        "colab_type": "code",
        "outputId": "91217165-bb7f-4830-b16e-7bf6ceb18ae8",
        "colab": {
          "base_uri": "https://localhost:8080/",
          "height": 296
        }
      },
      "source": [
        "def test():\n",
        "    #shuffle the data\n",
        "    combined = beer + water\n",
        "    random.shuffle(combined)\n",
        "     # split into two groups\n",
        "    split = len(beer)\n",
        "    group1 = combined[:split]\n",
        "    group2 = combined[split:]\n",
        "    \n",
        "    #compare the means\n",
        "    return mean(group1) - mean(group2)\n",
        "tests = [test() for _ in range(10000)]\n",
        "  \n",
        "from matplotlib.pyplot import hist\n",
        "histogram1 = hist(tests)"
      ],
      "execution_count": 0,
      "outputs": [
        {
          "output_type": "display_data",
          "data": {
            "image/png": "[encoded data removed]",
            "text/plain": [
              "<Figure size 432x288 with 1 Axes>"
            ]
          },
          "metadata": {
            "tags": []
          }
        }
      ]
    },
    {
      "cell_type": "markdown",
      "metadata": {
        "id": "LswSDXrpWMox",
        "colab_type": "text"
      },
      "source": [
        "Under the null hypothesis, here's the mean number of mosquitoes attracted by beer drinkers versus water drinkers, and the standar deviation:"
      ]
    },
    {
      "cell_type": "code",
      "metadata": {
        "id": "3U8RYGjBWKYL",
        "colab_type": "code",
        "outputId": "3dc1a65c-f1b5-4fdf-8305-8f5d80dda44a",
        "colab": {
          "base_uri": "https://localhost:8080/",
          "height": 34
        }
      },
      "source": [
        "mean(tests), stdev(tests)"
      ],
      "execution_count": 0,
      "outputs": [
        {
          "output_type": "execute_result",
          "data": {
            "text/plain": [
              "(0.007897999999999999, 1.3594810202467185)"
            ]
          },
          "metadata": {
            "tags": []
          },
          "execution_count": 120
        }
      ]
    },
    {
      "cell_type": "markdown",
      "metadata": {
        "id": "1JCWU4LfWufl",
        "colab_type": "text"
      },
      "source": [
        "The observed effect size of 4.4 more mosquitoes attracted by beer drinkers is over 3 standard deviations from the mean under the null hypothesis. (This is the z-score)"
      ]
    },
    {
      "cell_type": "code",
      "metadata": {
        "id": "peEmsTRzXHL3",
        "colab_type": "code",
        "outputId": "13a7b8db-8960-47c6-d697-2126f6bb820c",
        "colab": {
          "base_uri": "https://localhost:8080/",
          "height": 34
        }
      },
      "source": [
        "standard_score = (effect_size - mean(tests)) / stdev(tests)\n",
        "print(standard_score)"
      ],
      "execution_count": 0,
      "outputs": [
        {
          "output_type": "stream",
          "text": [
            "3.2143735092268773\n"
          ],
          "name": "stdout"
        }
      ]
    },
    {
      "cell_type": "markdown",
      "metadata": {
        "id": "U2Jxe_UQXrk5",
        "colab_type": "text"
      },
      "source": [
        "Here is the p-value: the probability of getting results at least as extreme as the ones you observed, if you assumed that the null hypothesis is correct."
      ]
    },
    {
      "cell_type": "code",
      "metadata": {
        "id": "SmGI-IcNX6Pd",
        "colab_type": "code",
        "outputId": "744ee77b-4e24-47b1-f61a-a4d03cec1d62",
        "colab": {
          "base_uri": "https://localhost:8080/",
          "height": 34
        }
      },
      "source": [
        "p_value = mean(test >= effect_size for test in tests)\n",
        "print(p_value)"
      ],
      "execution_count": 0,
      "outputs": [
        {
          "output_type": "stream",
          "text": [
            "0.0003\n"
          ],
          "name": "stdout"
        }
      ]
    },
    {
      "cell_type": "markdown",
      "metadata": {
        "id": "Iy5XSltmYKNm",
        "colab_type": "text"
      },
      "source": [
        "Reject the null hypothesis?"
      ]
    },
    {
      "cell_type": "code",
      "metadata": {
        "id": "gcY8JpYEYZ6J",
        "colab_type": "code",
        "outputId": "91744a11-ccd0-4e87-bcdd-6d44054790f4",
        "colab": {
          "base_uri": "https://localhost:8080/",
          "height": 34
        }
      },
      "source": [
        "p_value < .05"
      ],
      "execution_count": 0,
      "outputs": [
        {
          "output_type": "execute_result",
          "data": {
            "text/plain": [
              "True"
            ]
          },
          "metadata": {
            "tags": []
          },
          "execution_count": 123
        }
      ]
    },
    {
      "cell_type": "markdown",
      "metadata": {
        "id": "Gz8opV00Y0Vj",
        "colab_type": "text"
      },
      "source": [
        "**How else could we do it?**\n",
        "\n",
        "We did a null hypothesis significance testing computationally, using a permutation test.\n",
        "\n",
        "We could also do it analytically, using a t-test"
      ]
    },
    {
      "cell_type": "code",
      "metadata": {
        "id": "Cj6bOigpZss7",
        "colab_type": "code",
        "outputId": "6e325617-8393-4944-b2e2-535492108a78",
        "colab": {
          "base_uri": "https://localhost:8080/",
          "height": 34
        }
      },
      "source": [
        "from statsmodels.stats.weightstats import ttest_ind\n",
        "test_statistic, p_value, degrees_of_freedom = ttest_ind(beer, water, alternative='larger', usevar='unequal')\n",
        "p_value"
      ],
      "execution_count": 0,
      "outputs": [
        {
          "output_type": "execute_result",
          "data": {
            "text/plain": [
              "0.00037370095395207643"
            ]
          },
          "metadata": {
            "tags": []
          },
          "execution_count": 124
        }
      ]
    },
    {
      "cell_type": "markdown",
      "metadata": {
        "id": "fgATn9NOaFs5",
        "colab_type": "text"
      },
      "source": [
        "**Lesson 5**\n",
        "*Learn how to find the confidence interval of a distribution*\n",
        "\n",
        "A **confidence interval** is a partial answer to the question: \"How precise is my estimate of the effect size?\"\" If you run an experiment and observe an effect, you might wonder wher you would see the same thing if you ran the experiment again"
      ]
    },
    {
      "cell_type": "markdown",
      "metadata": {
        "id": "VpLaj0rTeWCT",
        "colab_type": "text"
      },
      "source": [
        ""
      ]
    },
    {
      "cell_type": "code",
      "metadata": {
        "id": "bbVztca0eXDP",
        "colab_type": "code",
        "colab": {}
      },
      "source": [
        "import seaborn as sns\n",
        "sns.set_context('poster')\n",
        "\n"
      ],
      "execution_count": 0,
      "outputs": []
    },
    {
      "cell_type": "code",
      "metadata": {
        "id": "wPFGeU9cgjce",
        "colab_type": "code",
        "outputId": "75536ddb-26a5-490e-9631-814a2b32b36b",
        "colab": {
          "base_uri": "https://localhost:8080/",
          "height": 231
        }
      },
      "source": [
        "plt.figure(figsize=(20, 2))           #Use teachers notes for this.\n",
        "plt.xlim(0, 26)\n",
        "plt.title('Mosquitoes per water drinker, on average')\n",
        "sns.barplot(beer, ci=95)\n",
        "\n",
        "plt.figure(figsize=(20, 2))\n",
        "pl.xlim(0, 26)\n",
        "plt.title('Mosquitoes per water drinker, on average')\n",
        "sns.barplot(beer, ci=95)"
      ],
      "execution_count": 0,
      "outputs": [
        {
          "output_type": "error",
          "ename": "TypeError",
          "evalue": "ignored",
          "traceback": [
            "\u001b[0;31m---------------------------------------------------------------------------\u001b[0m",
            "\u001b[0;31mTypeError\u001b[0m                                 Traceback (most recent call last)",
            "\u001b[0;32m<ipython-input-126-6f21deeddd43>\u001b[0m in \u001b[0;36m<module>\u001b[0;34m()\u001b[0m\n\u001b[0;32m----> 1\u001b[0;31m \u001b[0mplt\u001b[0m\u001b[0;34m.\u001b[0m\u001b[0mfigure\u001b[0m\u001b[0;34m(\u001b[0m\u001b[0mfigsize\u001b[0m\u001b[0;34m=\u001b[0m\u001b[0;34m(\u001b[0m\u001b[0;36m20\u001b[0m\u001b[0;34m,\u001b[0m \u001b[0;36m2\u001b[0m\u001b[0;34m)\u001b[0m\u001b[0;34m)\u001b[0m           \u001b[0;31m#Use teachers notes for this.\u001b[0m\u001b[0;34m\u001b[0m\u001b[0;34m\u001b[0m\u001b[0m\n\u001b[0m\u001b[1;32m      2\u001b[0m \u001b[0mplt\u001b[0m\u001b[0;34m.\u001b[0m\u001b[0mxlim\u001b[0m\u001b[0;34m(\u001b[0m\u001b[0;36m0\u001b[0m\u001b[0;34m,\u001b[0m \u001b[0;36m26\u001b[0m\u001b[0;34m)\u001b[0m\u001b[0;34m\u001b[0m\u001b[0;34m\u001b[0m\u001b[0m\n\u001b[1;32m      3\u001b[0m \u001b[0mplt\u001b[0m\u001b[0;34m.\u001b[0m\u001b[0mtitle\u001b[0m\u001b[0;34m(\u001b[0m\u001b[0;34m'Mosquitoes per water drinker, on average'\u001b[0m\u001b[0;34m)\u001b[0m\u001b[0;34m\u001b[0m\u001b[0;34m\u001b[0m\u001b[0m\n\u001b[1;32m      4\u001b[0m \u001b[0msns\u001b[0m\u001b[0;34m.\u001b[0m\u001b[0mbarplot\u001b[0m\u001b[0;34m(\u001b[0m\u001b[0mbeer\u001b[0m\u001b[0;34m,\u001b[0m \u001b[0mci\u001b[0m\u001b[0;34m=\u001b[0m\u001b[0;36m95\u001b[0m\u001b[0;34m)\u001b[0m\u001b[0;34m\u001b[0m\u001b[0;34m\u001b[0m\u001b[0m\n\u001b[1;32m      5\u001b[0m \u001b[0;34m\u001b[0m\u001b[0m\n",
            "\u001b[0;31mTypeError\u001b[0m: 'module' object is not callable"
          ]
        }
      ]
    },
    {
      "cell_type": "code",
      "metadata": {
        "id": "NJQZ-Tsig9eU",
        "colab_type": "code",
        "colab": {}
      },
      "source": [
        "def bootstrap_sample(items):\n",
        "  # Random resample *with replacement*\n",
        "  return random.choices(items, k=len(items))"
      ],
      "execution_count": 0,
      "outputs": []
    },
    {
      "cell_type": "code",
      "metadata": {
        "id": "ZeyeYrmqhi7i",
        "colab_type": "code",
        "outputId": "015af320-0622-4feb-f5ae-329527c1caab",
        "colab": {
          "base_uri": "https://localhost:8080/",
          "height": 51
        }
      },
      "source": [
        "sorted(water), mean(water)"
      ],
      "execution_count": 0,
      "outputs": [
        {
          "output_type": "execute_result",
          "data": {
            "text/plain": [
              "([12, 13, 15, 15, 16, 18, 19, 19, 20, 20, 21, 21, 22, 22, 22, 23, 24, 24],\n",
              " 19.22222222222222)"
            ]
          },
          "metadata": {
            "tags": []
          },
          "execution_count": 88
        }
      ]
    },
    {
      "cell_type": "code",
      "metadata": {
        "id": "_ryI1DDCh7ik",
        "colab_type": "code",
        "outputId": "0d0e9d3b-a732-4a7c-c4b2-e0737501a2fc",
        "colab": {
          "base_uri": "https://localhost:8080/",
          "height": 51
        }
      },
      "source": [
        "sample = bootstrap_sample(water)\n",
        "sorted(sample), mean(sample)"
      ],
      "execution_count": 0,
      "outputs": [
        {
          "output_type": "execute_result",
          "data": {
            "text/plain": [
              "([12, 15, 15, 16, 16, 16, 16, 18, 18, 19, 19, 20, 20, 21, 22, 22, 22, 24],\n",
              " 18.38888888888889)"
            ]
          },
          "metadata": {
            "tags": []
          },
          "execution_count": 89
        }
      ]
    },
    {
      "cell_type": "code",
      "metadata": {
        "id": "WGC3YtFuiOJT",
        "colab_type": "code",
        "outputId": "cc7eb101-1940-40e2-f4d5-de3c757edc03",
        "colab": {
          "base_uri": "https://localhost:8080/",
          "height": 51
        }
      },
      "source": [
        "sample = bootstrap_sample(water)\n",
        "sorted(sample), mean(sample)"
      ],
      "execution_count": 0,
      "outputs": [
        {
          "output_type": "execute_result",
          "data": {
            "text/plain": [
              "([12, 13, 13, 15, 15, 16, 18, 19, 20, 20, 22, 22, 22, 22, 22, 22, 23, 24],\n",
              " 18.88888888888889)"
            ]
          },
          "metadata": {
            "tags": []
          },
          "execution_count": 95
        }
      ]
    },
    {
      "cell_type": "code",
      "metadata": {
        "id": "CZ3RrCA5ibXl",
        "colab_type": "code",
        "colab": {}
      },
      "source": [
        "effect_sizes = [mean(bootstrap_sample(beer)) - mean(bootstrap_sample(water)) for _ in range(10000)]"
      ],
      "execution_count": 0,
      "outputs": []
    },
    {
      "cell_type": "code",
      "metadata": {
        "id": "lcljRQIujxbD",
        "colab_type": "code",
        "outputId": "93d2d8b0-c7b3-4195-f9a0-553e54f5769f",
        "colab": {
          "base_uri": "https://localhost:8080/",
          "height": 296
        }
      },
      "source": [
        "from matplotlib.pyplot import hist\n",
        "histogram1 = hist(effect_sizes)"
      ],
      "execution_count": 0,
      "outputs": [
        {
          "output_type": "display_data",
          "data": {
            "image/png": "[encoded data removed]",
            "text/plain": [
              "<Figure size 432x288 with 1 Axes>"
            ]
          },
          "metadata": {
            "tags": []
          }
        }
      ]
    },
    {
      "cell_type": "code",
      "metadata": {
        "id": "3slAbfNdkAf0",
        "colab_type": "code",
        "outputId": "4cf7a38e-2510-46cf-8dbe-4e31a797d145",
        "colab": {
          "base_uri": "https://localhost:8080/",
          "height": 34
        }
      },
      "source": [
        "def percentile(x, p):\n",
        "  # x: list of numbers\n",
        "  #p = Percentile between o and 100\n",
        "  i = round(len(x) * p/100)\n",
        "  return sorted(x)[i]\n",
        "\n",
        "percentile(effect_sizes, 2.5), percentile(effect_sizes, 97.5)"
      ],
      "execution_count": 0,
      "outputs": [
        {
          "output_type": "execute_result",
          "data": {
            "text/plain": [
              "(2.1822222222222223, 6.733333333333331)"
            ]
          },
          "metadata": {
            "tags": []
          },
          "execution_count": 128
        }
      ]
    }
  ]
}