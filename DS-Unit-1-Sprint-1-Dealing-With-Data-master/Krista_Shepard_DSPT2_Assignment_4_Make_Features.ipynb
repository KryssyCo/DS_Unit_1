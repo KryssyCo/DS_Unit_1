{
  "nbformat": 4,
  "nbformat_minor": 0,
  "metadata": {
    "colab": {
      "name": "Krista Shepard DSPT2  Assignment 4 Make Features.ipynb",
      "version": "0.3.2",
      "provenance": [],
      "include_colab_link": true
    },
    "kernelspec": {
      "name": "python3",
      "display_name": "Python 3"
    }
  },
  "cells": [
    {
      "cell_type": "markdown",
      "metadata": {
        "id": "view-in-github",
        "colab_type": "text"
      },
      "source": [
        "<a href=\"https://colab.research.google.com/github/KryssyCo/DS-Unit-1-Sprint-1-Dealing-With-Data/blob/master/Krista_Shepard_DSPT2_Assignment_4_Make_Features.ipynb\" target=\"_parent\"><img src=\"https://colab.research.google.com/assets/colab-badge.svg\" alt=\"Open In Colab\"/></a>"
      ]
    },
    {
      "cell_type": "markdown",
      "metadata": {
        "id": "teTM9_K_zo7U",
        "colab_type": "text"
      },
      "source": [
        "# ASSIGNMENT\n",
        "\n",
        "- Replicate the lesson code.\n",
        "\n",
        "- Convert the `term` column from string to integer.\n",
        "\n",
        "- Make a column named `loan_status_is_great`. It should contain the integer 1 if `loan_status` is \"Current\" or \"Fully Paid.\" Else it should contain the integer 0.\n",
        "\n",
        "- Make `last_pymnt_d_month` and `last_pymnt_d_year` columns."
      ]
    },
    {
      "cell_type": "markdown",
      "metadata": {
        "id": "4ouz2LooD80r",
        "colab_type": "text"
      },
      "source": [
        "## Get Lending Club Data"
      ]
    },
    {
      "cell_type": "code",
      "metadata": {
        "id": "f-ab0BKD1V1I",
        "colab_type": "code",
        "outputId": "1e503ad6-6112-4cd0-a4fc-18127ec53d38",
        "colab": {
          "base_uri": "https://localhost:8080/",
          "height": 207
        }
      },
      "source": [
        "!wget https://resources.lendingclub.com/LoanStats_2019Q1.csv.zip"
      ],
      "execution_count": 0,
      "outputs": [
        {
          "output_type": "stream",
          "text": [
            "--2019-08-25 19:28:03--  https://resources.lendingclub.com/LoanStats_2019Q1.csv.zip\n",
            "Resolving resources.lendingclub.com (resources.lendingclub.com)... 64.48.1.20\n",
            "Connecting to resources.lendingclub.com (resources.lendingclub.com)|64.48.1.20|:443... connected.\n",
            "HTTP request sent, awaiting response... 200 OK\n",
            "Length: unspecified [application/zip]\n",
            "Saving to: ‘LoanStats_2019Q1.csv.zip’\n",
            "\n",
            "LoanStats_2019Q1.cs     [    <=>             ]  19.37M   853KB/s    in 24s     \n",
            "\n",
            "2019-08-25 19:28:27 (835 KB/s) - ‘LoanStats_2019Q1.csv.zip’ saved [20314386]\n",
            "\n"
          ],
          "name": "stdout"
        }
      ]
    },
    {
      "cell_type": "code",
      "metadata": {
        "id": "IZicv3Vd1YZ_",
        "colab_type": "code",
        "outputId": "236f76a7-645e-4ca6-ad22-116051bd539e",
        "colab": {
          "base_uri": "https://localhost:8080/",
          "height": 34
        }
      },
      "source": [
        "!ls"
      ],
      "execution_count": 0,
      "outputs": [
        {
          "output_type": "stream",
          "text": [
            "LoanStats_2019Q1.csv.zip  sample_data\n"
          ],
          "name": "stdout"
        }
      ]
    },
    {
      "cell_type": "code",
      "metadata": {
        "id": "T4_Gktbs1aAY",
        "colab_type": "code",
        "outputId": "40af8eb4-ac14-4f8d-d75a-0ae7aaceb83c",
        "colab": {
          "base_uri": "https://localhost:8080/",
          "height": 52
        }
      },
      "source": [
        "!unzip LoanStats_2019Q1.csv.zip"
      ],
      "execution_count": 0,
      "outputs": [
        {
          "output_type": "stream",
          "text": [
            "Archive:  LoanStats_2019Q1.csv.zip\n",
            "  inflating: LoanStats_2019Q1.csv    \n"
          ],
          "name": "stdout"
        }
      ]
    },
    {
      "cell_type": "code",
      "metadata": {
        "id": "tQrswvQd1eOQ",
        "colab_type": "code",
        "outputId": "72aaf7d1-d183-46ce-dbc8-d8608c5edb5c",
        "colab": {
          "base_uri": "https://localhost:8080/",
          "height": 210
        }
      },
      "source": [
        "!head LoanStats_2019Q1.csv"
      ],
      "execution_count": 0,
      "outputs": [
        {
          "output_type": "stream",
          "text": [
            "Notes offered by Prospectus (https://www.lendingclub.com/info/prospectus.action)\n",
            "\"id\",\"member_id\",\"loan_amnt\",\"funded_amnt\",\"funded_amnt_inv\",\"term\",\"int_rate\",\"installment\",\"grade\",\"sub_grade\",\"emp_title\",\"emp_length\",\"home_ownership\",\"annual_inc\",\"verification_status\",\"issue_d\",\"loan_status\",\"pymnt_plan\",\"url\",\"desc\",\"purpose\",\"title\",\"zip_code\",\"addr_state\",\"dti\",\"delinq_2yrs\",\"earliest_cr_line\",\"inq_last_6mths\",\"mths_since_last_delinq\",\"mths_since_last_record\",\"open_acc\",\"pub_rec\",\"revol_bal\",\"revol_util\",\"total_acc\",\"initial_list_status\",\"out_prncp\",\"out_prncp_inv\",\"total_pymnt\",\"total_pymnt_inv\",\"total_rec_prncp\",\"total_rec_int\",\"total_rec_late_fee\",\"recoveries\",\"collection_recovery_fee\",\"last_pymnt_d\",\"last_pymnt_amnt\",\"next_pymnt_d\",\"last_credit_pull_d\",\"collections_12_mths_ex_med\",\"mths_since_last_major_derog\",\"policy_code\",\"application_type\",\"annual_inc_joint\",\"dti_joint\",\"verification_status_joint\",\"acc_now_delinq\",\"tot_coll_amt\",\"tot_cur_bal\",\"open_acc_6m\",\"open_act_il\",\"open_il_12m\",\"open_il_24m\",\"mths_since_rcnt_il\",\"total_bal_il\",\"il_util\",\"open_rv_12m\",\"open_rv_24m\",\"max_bal_bc\",\"all_util\",\"total_rev_hi_lim\",\"inq_fi\",\"total_cu_tl\",\"inq_last_12m\",\"acc_open_past_24mths\",\"avg_cur_bal\",\"bc_open_to_buy\",\"bc_util\",\"chargeoff_within_12_mths\",\"delinq_amnt\",\"mo_sin_old_il_acct\",\"mo_sin_old_rev_tl_op\",\"mo_sin_rcnt_rev_tl_op\",\"mo_sin_rcnt_tl\",\"mort_acc\",\"mths_since_recent_bc\",\"mths_since_recent_bc_dlq\",\"mths_since_recent_inq\",\"mths_since_recent_revol_delinq\",\"num_accts_ever_120_pd\",\"num_actv_bc_tl\",\"num_actv_rev_tl\",\"num_bc_sats\",\"num_bc_tl\",\"num_il_tl\",\"num_op_rev_tl\",\"num_rev_accts\",\"num_rev_tl_bal_gt_0\",\"num_sats\",\"num_tl_120dpd_2m\",\"num_tl_30dpd\",\"num_tl_90g_dpd_24m\",\"num_tl_op_past_12m\",\"pct_tl_nvr_dlq\",\"percent_bc_gt_75\",\"pub_rec_bankruptcies\",\"tax_liens\",\"tot_hi_cred_lim\",\"total_bal_ex_mort\",\"total_bc_limit\",\"total_il_high_credit_limit\",\"revol_bal_joint\",\"sec_app_earliest_cr_line\",\"sec_app_inq_last_6mths\",\"sec_app_mort_acc\",\"sec_app_open_acc\",\"sec_app_revol_util\",\"sec_app_open_act_il\",\"sec_app_num_rev_accts\",\"sec_app_chargeoff_within_12_mths\",\"sec_app_collections_12_mths_ex_med\",\"sec_app_mths_since_last_major_derog\",\"hardship_flag\",\"hardship_type\",\"hardship_reason\",\"hardship_status\",\"deferral_term\",\"hardship_amount\",\"hardship_start_date\",\"hardship_end_date\",\"payment_plan_start_date\",\"hardship_length\",\"hardship_dpd\",\"hardship_loan_status\",\"orig_projected_additional_accrued_interest\",\"hardship_payoff_balance_amount\",\"hardship_last_payment_amount\",\"debt_settlement_flag\",\"debt_settlement_flag_date\",\"settlement_status\",\"settlement_date\",\"settlement_amount\",\"settlement_percentage\",\"settlement_term\"\n",
            "\"\",\"\",\"20000\",\"20000\",\"20000\",\" 60 months\",\" 17.19%\",\"499.1\",\"C\",\"C5\",\"Front desk supervisor\",\"6 years\",\"RENT\",\"47000\",\"Source Verified\",\"Mar-2019\",\"Current\",\"n\",\"\",\"\",\"debt_consolidation\",\"Debt consolidation\",\"958xx\",\"CA\",\"14.02\",\"0\",\"Sep-2006\",\"1\",\"50\",\"\",\"15\",\"0\",\"10687\",\"19.7%\",\"53\",\"w\",\"19031.49\",\"19031.49\",\"1958.2\",\"1958.20\",\"968.51\",\"989.69\",\"0.0\",\"0.0\",\"0.0\",\"Jul-2019\",\"499.1\",\"Aug-2019\",\"Jul-2019\",\"0\",\"50\",\"1\",\"Individual\",\"\",\"\",\"\",\"0\",\"0\",\"31546\",\"3\",\"2\",\"1\",\"2\",\"10\",\"20859\",\"97\",\"4\",\"9\",\"5909\",\"42\",\"54300\",\"6\",\"1\",\"3\",\"11\",\"2103\",\"23647\",\"30\",\"0\",\"0\",\"150\",\"100\",\"1\",\"1\",\"0\",\"5\",\"\",\"3\",\"50\",\"3\",\"3\",\"4\",\"8\",\"19\",\"19\",\"13\",\"33\",\"4\",\"15\",\"0\",\"0\",\"0\",\"5\",\"98\",\"12.5\",\"0\",\"0\",\"75824\",\"31546\",\"33800\",\"21524\",\"\",\"\",\"\",\"\",\"\",\"\",\"\",\"\",\"\",\"\",\"\",\"N\",\"\",\"\",\"\",\"\",\"\",\"\",\"\",\"\",\"\",\"\",\"\",\"\",\"\",\"\",\"N\",\"\",\"\",\"\",\"\",\"\",\"\"\n",
            "\"\",\"\",\"21225\",\"21225\",\"21225\",\" 60 months\",\" 14.74%\",\"502.05\",\"C\",\"C2\",\"ceo\",\"10+ years\",\"MORTGAGE\",\"225000\",\"Not Verified\",\"Mar-2019\",\"Current\",\"n\",\"\",\"\",\"credit_card\",\"Credit card refinancing\",\"956xx\",\"CA\",\"16.8\",\"0\",\"Sep-1994\",\"2\",\"\",\"110\",\"14\",\"1\",\"95868\",\"87.7%\",\"22\",\"w\",\"20492.06\",\"20492.06\",\"1471.39\",\"1471.39\",\"732.94\",\"738.45\",\"0.0\",\"0.0\",\"0.0\",\"Jul-2019\",\"502.05\",\"Jul-2019\",\"Jul-2019\",\"0\",\"\",\"1\",\"Individual\",\"\",\"\",\"\",\"0\",\"0\",\"694793\",\"1\",\"5\",\"2\",\"4\",\"3\",\"113558\",\"76\",\"0\",\"1\",\"17353\",\"84\",\"109300\",\"1\",\"0\",\"4\",\"5\",\"49628\",\"12635\",\"76.4\",\"0\",\"0\",\"126\",\"294\",\"24\",\"3\",\"4\",\"30\",\"\",\"1\",\"\",\"0\",\"4\",\"6\",\"4\",\"4\",\"11\",\"7\",\"7\",\"6\",\"14\",\"0\",\"0\",\"0\",\"2\",\"100\",\"50\",\"1\",\"0\",\"747075\",\"209426\",\"53500\",\"128175\",\"\",\"\",\"\",\"\",\"\",\"\",\"\",\"\",\"\",\"\",\"\",\"N\",\"\",\"\",\"\",\"\",\"\",\"\",\"\",\"\",\"\",\"\",\"\",\"\",\"\",\"\",\"N\",\"\",\"\",\"\",\"\",\"\",\"\"\n",
            "\"\",\"\",\"5000\",\"5000\",\"5000\",\" 36 months\",\" 17.97%\",\"180.69\",\"D\",\"D1\",\"\",\"n/a\",\"MORTGAGE\",\"62000\",\"Not Verified\",\"Mar-2019\",\"Current\",\"n\",\"\",\"\",\"home_improvement\",\"Home improvement\",\"320xx\",\"FL\",\"19.82\",\"1\",\"Nov-1987\",\"0\",\"4\",\"\",\"8\",\"0\",\"7285\",\"77.5%\",\"18\",\"w\",\"4677.78\",\"4677.78\",\"532.09\",\"532.09\",\"322.22\",\"209.87\",\"0.0\",\"0.0\",\"0.0\",\"Jul-2019\",\"180.69\",\"Jul-2019\",\"Jul-2019\",\"0\",\"4\",\"1\",\"Individual\",\"\",\"\",\"\",\"0\",\"0\",\"206639\",\"0\",\"1\",\"0\",\"0\",\"33\",\"24330\",\"\",\"1\",\"3\",\"2318\",\"78\",\"9400\",\"0\",\"0\",\"0\",\"3\",\"25830\",\"2115\",\"77.5\",\"0\",\"0\",\"187\",\"376\",\"9\",\"9\",\"2\",\"9\",\"\",\"\",\"4\",\"3\",\"6\",\"6\",\"6\",\"6\",\"7\",\"6\",\"9\",\"6\",\"8\",\"0\",\"0\",\"1\",\"1\",\"66.7\",\"50\",\"0\",\"0\",\"255738\",\"31615\",\"9400\",\"39938\",\"\",\"\",\"\",\"\",\"\",\"\",\"\",\"\",\"\",\"\",\"\",\"N\",\"\",\"\",\"\",\"\",\"\",\"\",\"\",\"\",\"\",\"\",\"\",\"\",\"\",\"\",\"N\",\"\",\"\",\"\",\"\",\"\",\"\"\n",
            "\"\",\"\",\"20000\",\"20000\",\"20000\",\" 36 months\",\"  8.19%\",\"628.49\",\"A\",\"A4\",\"Executive Director of Guardian Advantage\",\"1 year\",\"MORTGAGE\",\"200000\",\"Not Verified\",\"Mar-2019\",\"Current\",\"n\",\"\",\"\",\"credit_card\",\"Credit card refinancing\",\"190xx\",\"PA\",\"22.66\",\"1\",\"Oct-2001\",\"0\",\"18\",\"\",\"20\",\"0\",\"20984\",\"32.1%\",\"49\",\"w\",\"18513.93\",\"18513.93\",\"1867.27\",\"1867.27\",\"1486.07\",\"381.20\",\"0.0\",\"0.0\",\"0.0\",\"Jul-2019\",\"628.49\",\"Jul-2019\",\"Jul-2019\",\"0\",\"48\",\"1\",\"Individual\",\"\",\"\",\"\",\"0\",\"0\",\"326678\",\"2\",\"5\",\"1\",\"3\",\"4\",\"63760\",\"61\",\"2\",\"3\",\"5097\",\"50\",\"64400\",\"1\",\"5\",\"0\",\"6\",\"17194\",\"30437\",\"38.4\",\"0\",\"0\",\"162\",\"209\",\"2\",\"2\",\"1\",\"2\",\"18\",\"21\",\"18\",\"1\",\"7\",\"9\",\"9\",\"15\",\"20\",\"14\",\"27\",\"9\",\"20\",\"0\",\"0\",\"0\",\"3\",\"95.7\",\"22.2\",\"0\",\"0\",\"448069\",\"84744\",\"49400\",\"105180\",\"\",\"\",\"\",\"\",\"\",\"\",\"\",\"\",\"\",\"\",\"\",\"N\",\"\",\"\",\"\",\"\",\"\",\"\",\"\",\"\",\"\",\"\",\"\",\"\",\"\",\"\",\"N\",\"\",\"\",\"\",\"\",\"\",\"\"\n",
            "\"\",\"\",\"12000\",\"12000\",\"12000\",\" 60 months\",\" 15.57%\",\"289.09\",\"C\",\"C3\",\"Computer Operator\",\"5 years\",\"MORTGAGE\",\"49000\",\"Source Verified\",\"Mar-2019\",\"Current\",\"n\",\"\",\"\",\"debt_consolidation\",\"Debt consolidation\",\"152xx\",\"PA\",\"13.47\",\"0\",\"Apr-1993\",\"0\",\"38\",\"\",\"18\",\"0\",\"17672\",\"48.2%\",\"36\",\"w\",\"11594.62\",\"11594.62\",\"846.51\",\"846.51\",\"405.38\",\"441.13\",\"0.0\",\"0.0\",\"0.0\",\"Jul-2019\",\"289.09\",\"Jul-2019\",\"Jul-2019\",\"0\",\"38\",\"1\",\"Individual\",\"\",\"\",\"\",\"0\",\"0\",\"143079\",\"2\",\"4\",\"0\",\"0\",\"51\",\"88353\",\"128\",\"4\",\"6\",\"3587\",\"100\",\"36700\",\"0\",\"8\",\"1\",\"6\",\"7949\",\"14848\",\"39.1\",\"1\",\"0\",\"144\",\"311\",\"3\",\"3\",\"5\",\"3\",\"38\",\"11\",\"38\",\"4\",\"5\",\"10\",\"7\",\"11\",\"12\",\"12\",\"19\",\"10\",\"18\",\"0\",\"0\",\"0\",\"4\",\"86.1\",\"14.3\",\"0\",\"0\",\"189260\",\"106025\",\"24400\",\"68860\",\"\",\"\",\"\",\"\",\"\",\"\",\"\",\"\",\"\",\"\",\"\",\"N\",\"\",\"\",\"\",\"\",\"\",\"\",\"\",\"\",\"\",\"\",\"\",\"\",\"\",\"\",\"N\",\"\",\"\",\"\",\"\",\"\",\"\"\n",
            "\"\",\"\",\"13500\",\"13500\",\"13500\",\" 36 months\",\"  7.56%\",\"420.31\",\"A\",\"A3\",\"Security officer\",\"8 years\",\"RENT\",\"34860\",\"Not Verified\",\"Mar-2019\",\"Current\",\"n\",\"\",\"\",\"credit_card\",\"Credit card refinancing\",\"857xx\",\"AZ\",\"10.91\",\"0\",\"Oct-2003\",\"1\",\"\",\"\",\"9\",\"0\",\"9932\",\"24.7%\",\"11\",\"w\",\"12326.49\",\"12326.49\",\"1409.59\",\"1409.59\",\"1173.51\",\"236.08\",\"0.0\",\"0.0\",\"0.0\",\"Jul-2019\",\"420.31\",\"Jul-2019\",\"Jul-2019\",\"0\",\"\",\"1\",\"Individual\",\"\",\"\",\"\",\"0\",\"0\",\"9932\",\"1\",\"0\",\"0\",\"0\",\"\",\"0\",\"\",\"1\",\"3\",\"3777\",\"25\",\"40200\",\"0\",\"0\",\"1\",\"3\",\"1104\",\"16629\",\"33.7\",\"0\",\"0\",\"\",\"185\",\"1\",\"1\",\"0\",\"22\",\"\",\"1\",\"\",\"0\",\"5\",\"6\",\"5\",\"7\",\"0\",\"9\",\"11\",\"6\",\"9\",\"0\",\"0\",\"0\",\"1\",\"100\",\"0\",\"0\",\"0\",\"40200\",\"9932\",\"25100\",\"0\",\"\",\"\",\"\",\"\",\"\",\"\",\"\",\"\",\"\",\"\",\"\",\"N\",\"\",\"\",\"\",\"\",\"\",\"\",\"\",\"\",\"\",\"\",\"\",\"\",\"\",\"\",\"N\",\"\",\"\",\"\",\"\",\"\",\"\"\n",
            "\"\",\"\",\"25000\",\"25000\",\"25000\",\" 36 months\",\"  7.02%\",\"772.16\",\"A\",\"A2\",\"Vice President, Trade Show\",\"5 years\",\"MORTGAGE\",\"305000\",\"Not Verified\",\"Mar-2019\",\"Current\",\"n\",\"\",\"\",\"debt_consolidation\",\"Debt consolidation\",\"600xx\",\"IL\",\"8.16\",\"0\",\"Oct-1995\",\"0\",\"\",\"\",\"12\",\"0\",\"31360\",\"36.9%\",\"26\",\"w\",\"23111.26\",\"23111.26\",\"2296.98\",\"2296.98\",\"1888.74\",\"408.24\",\"0.0\",\"0.0\",\"0.0\",\"Jul-2019\",\"772.16\",\"Jul-2019\",\"Jul-2019\",\"0\",\"\",\"1\",\"Individual\",\"\",\"\",\"\",\"0\",\"0\",\"726960\",\"1\",\"2\",\"1\",\"1\",\"3\",\"18796\",\"48\",\"1\",\"1\",\"11255\",\"41\",\"85000\",\"1\",\"0\",\"3\",\"3\",\"60580\",\"49640\",\"38.7\",\"0\",\"0\",\"106\",\"232\",\"12\",\"3\",\"4\",\"28\",\"\",\"3\",\"\",\"0\",\"4\",\"4\",\"5\",\"9\",\"5\",\"8\",\"16\",\"4\",\"12\",\"0\",\"0\",\"0\",\"2\",\"100\",\"0\",\"0\",\"0\",\"840287\",\"65339\",\"81000\",\"38858\",\"\",\"\",\"\",\"\",\"\",\"\",\"\",\"\",\"\",\"\",\"\",\"N\",\"\",\"\",\"\",\"\",\"\",\"\",\"\",\"\",\"\",\"\",\"\",\"\",\"\",\"\",\"N\",\"\",\"\",\"\",\"\",\"\",\"\"\n",
            "\"\",\"\",\"10000\",\"10000\",\"10000\",\" 60 months\",\" 12.40%\",\"224.48\",\"B\",\"B4\",\"\",\"n/a\",\"MORTGAGE\",\"38000\",\"Not Verified\",\"Mar-2019\",\"Fully Paid\",\"n\",\"\",\"\",\"credit_card\",\"Credit card refinancing\",\"306xx\",\"GA\",\"38.66\",\"0\",\"Feb-1997\",\"0\",\"\",\"\",\"7\",\"0\",\"8334\",\"49%\",\"18\",\"w\",\"0.00\",\"0.00\",\"10149.9647448397\",\"10149.96\",\"10000.00\",\"149.96\",\"0.0\",\"0.0\",\"0.0\",\"Apr-2019\",\"10163.74\",\"\",\"Mar-2019\",\"0\",\"\",\"1\",\"Individual\",\"\",\"\",\"\",\"0\",\"0\",\"134860\",\"0\",\"2\",\"0\",\"0\",\"36\",\"29189\",\"37\",\"0\",\"0\",\"6574\",\"44\",\"17000\",\"0\",\"0\",\"0\",\"0\",\"19266\",\"8666\",\"49\",\"0\",\"0\",\"170\",\"265\",\"37\",\"33\",\"4\",\"112\",\"\",\"\",\"\",\"0\",\"2\",\"2\",\"4\",\"6\",\"7\",\"4\",\"7\",\"2\",\"7\",\"0\",\"0\",\"0\",\"0\",\"100\",\"50\",\"0\",\"0\",\"176439\",\"37523\",\"17000\",\"57439\",\"\",\"\",\"\",\"\",\"\",\"\",\"\",\"\",\"\",\"\",\"\",\"N\",\"\",\"\",\"\",\"\",\"\",\"\",\"\",\"\",\"\",\"\",\"\",\"\",\"\",\"\",\"N\",\"\",\"\",\"\",\"\",\"\",\"\"\n"
          ],
          "name": "stdout"
        }
      ]
    },
    {
      "cell_type": "code",
      "metadata": {
        "id": "0qn5sHgJ1iFS",
        "colab_type": "code",
        "outputId": "c948641b-ebbe-4265-fe00-6bf22deca78b",
        "colab": {
          "base_uri": "https://localhost:8080/",
          "height": 210
        }
      },
      "source": [
        "!tail LoanStats_2019Q1.csv"
      ],
      "execution_count": 0,
      "outputs": [
        {
          "output_type": "stream",
          "text": [
            "\"\",\"\",\"40000\",\"40000\",\"40000\",\" 36 months\",\"  6.46%\",\"1225.24\",\"A\",\"A1\",\"President - North America\",\"4 years\",\"MORTGAGE\",\"520000\",\"Verified\",\"Jan-2019\",\"Current\",\"n\",\"\",\"\",\"credit_card\",\"Credit card refinancing\",\"752xx\",\"TX\",\"9.96\",\"0\",\"Sep-2006\",\"1\",\"43\",\"\",\"21\",\"0\",\"59529\",\"29.6%\",\"57\",\"f\",\"33858.42\",\"33858.42\",\"7337.08\",\"7337.08\",\"6141.58\",\"1195.50\",\"0.0\",\"0.0\",\"0.0\",\"Jul-2019\",\"1225.24\",\"Aug-2019\",\"Jul-2019\",\"0\",\"43\",\"1\",\"Individual\",\"\",\"\",\"\",\"0\",\"0\",\"864480\",\"2\",\"3\",\"0\",\"0\",\"28\",\"27151\",\"35\",\"3\",\"5\",\"38479\",\"34\",\"111100\",\"1\",\"0\",\"3\",\"7\",\"41166\",\"41467\",\"34.3\",\"0\",\"0\",\"147\",\"146\",\"2\",\"2\",\"9\",\"3\",\"43\",\"3\",\"43\",\"0\",\"4\",\"5\",\"8\",\"16\",\"10\",\"14\",\"36\",\"5\",\"21\",\"0\",\"0\",\"0\",\"3\",\"98.2\",\"12.5\",\"0\",\"0\",\"1033574\",\"95958\",\"100800\",\"78634\",\"\",\"\",\"\",\"\",\"\",\"\",\"\",\"\",\"\",\"\",\"\",\"N\",\"\",\"\",\"\",\"\",\"\",\"\",\"\",\"\",\"\",\"\",\"\",\"\",\"\",\"\",\"N\",\"\",\"\",\"\",\"\",\"\",\"\"\n",
            "\"\",\"\",\"5000\",\"5000\",\"5000\",\" 36 months\",\" 13.56%\",\"169.83\",\"C\",\"C1\",\"\",\"n/a\",\"MORTGAGE\",\"48000\",\"Not Verified\",\"Jan-2019\",\"Current\",\"n\",\"\",\"\",\"home_improvement\",\"Home improvement\",\"338xx\",\"FL\",\"8.28\",\"2\",\"May-2006\",\"0\",\"11\",\"\",\"8\",\"0\",\"3846\",\"13.6%\",\"21\",\"w\",\"4300.52\",\"4300.52\",\"1011.45\",\"1011.45\",\"699.48\",\"311.97\",\"0.0\",\"0.0\",\"0.0\",\"Jul-2019\",\"169.83\",\"Aug-2019\",\"Jul-2019\",\"0\",\"\",\"1\",\"Individual\",\"\",\"\",\"\",\"0\",\"0\",\"35666\",\"0\",\"1\",\"0\",\"0\",\"49\",\"5336\",\"47\",\"0\",\"2\",\"0\",\"23\",\"28200\",\"0\",\"3\",\"0\",\"2\",\"4458\",\"\",\"\",\"0\",\"0\",\"99\",\"151\",\"13\",\"13\",\"1\",\"\",\"\",\"\",\"11\",\"0\",\"0\",\"3\",\"0\",\"1\",\"4\",\"6\",\"16\",\"3\",\"8\",\"0\",\"0\",\"0\",\"0\",\"90.5\",\"\",\"0\",\"0\",\"88613\",\"9182\",\"0\",\"11413\",\"\",\"\",\"\",\"\",\"\",\"\",\"\",\"\",\"\",\"\",\"\",\"N\",\"\",\"\",\"\",\"\",\"\",\"\",\"\",\"\",\"\",\"\",\"\",\"\",\"\",\"\",\"N\",\"\",\"\",\"\",\"\",\"\",\"\"\n",
            "\"\",\"\",\"6000\",\"6000\",\"6000\",\" 36 months\",\"  6.46%\",\"183.79\",\"A\",\"A1\",\"\",\"< 1 year\",\"MORTGAGE\",\"96000\",\"Not Verified\",\"Jan-2019\",\"Current\",\"n\",\"\",\"\",\"debt_consolidation\",\"Debt consolidation\",\"060xx\",\"CT\",\"0.31\",\"0\",\"May-1993\",\"0\",\"\",\"91\",\"16\",\"1\",\"50\",\"0.1%\",\"36\",\"w\",\"5078.74\",\"5078.74\",\"1100.59\",\"1100.59\",\"921.26\",\"179.33\",\"0.0\",\"0.0\",\"0.0\",\"Jul-2019\",\"183.79\",\"Aug-2019\",\"Jul-2019\",\"0\",\"\",\"1\",\"Individual\",\"\",\"\",\"\",\"0\",\"0\",\"50\",\"0\",\"0\",\"0\",\"1\",\"15\",\"0\",\"\",\"1\",\"4\",\"50\",\"0\",\"33500\",\"1\",\"1\",\"1\",\"5\",\"3\",\"14850\",\"0.3\",\"0\",\"0\",\"15\",\"306\",\"7\",\"7\",\"0\",\"45\",\"\",\"7\",\"\",\"0\",\"1\",\"1\",\"3\",\"12\",\"1\",\"16\",\"35\",\"1\",\"16\",\"0\",\"0\",\"0\",\"1\",\"100\",\"0\",\"1\",\"0\",\"33500\",\"50\",\"14900\",\"0\",\"\",\"\",\"\",\"\",\"\",\"\",\"\",\"\",\"\",\"\",\"\",\"N\",\"\",\"\",\"\",\"\",\"\",\"\",\"\",\"\",\"\",\"\",\"\",\"\",\"\",\"\",\"N\",\"\",\"\",\"\",\"\",\"\",\"\"\n",
            "\"\",\"\",\"16000\",\"16000\",\"16000\",\" 36 months\",\" 16.14%\",\"563.62\",\"C\",\"C4\",\"Estimator/Supervisor\",\"10+ years\",\"MORTGAGE\",\"32000\",\"Source Verified\",\"Jan-2019\",\"Current\",\"n\",\"\",\"\",\"debt_consolidation\",\"Debt consolidation\",\"925xx\",\"CA\",\"20.89\",\"0\",\"Dec-2010\",\"0\",\"35\",\"117\",\"13\",\"1\",\"17066\",\"49.9%\",\"15\",\"f\",\"13837.91\",\"13837.91\",\"3367.37\",\"3367.37\",\"2162.09\",\"1205.28\",\"0.0\",\"0.0\",\"0.0\",\"Jul-2019\",\"563.62\",\"Aug-2019\",\"Jul-2019\",\"0\",\"\",\"1\",\"Individual\",\"\",\"\",\"\",\"0\",\"0\",\"17066\",\"1\",\"0\",\"0\",\"0\",\"55\",\"0\",\"\",\"3\",\"3\",\"2353\",\"50\",\"34200\",\"0\",\"0\",\"1\",\"3\",\"1313\",\"6446\",\"60.7\",\"0\",\"0\",\"55\",\"96\",\"1\",\"1\",\"0\",\"1\",\"35\",\"12\",\"35\",\"0\",\"7\",\"8\",\"8\",\"8\",\"1\",\"13\",\"14\",\"8\",\"13\",\"0\",\"0\",\"0\",\"3\",\"93.3\",\"37.5\",\"1\",\"0\",\"34200\",\"17066\",\"16400\",\"0\",\"\",\"\",\"\",\"\",\"\",\"\",\"\",\"\",\"\",\"\",\"\",\"N\",\"\",\"\",\"\",\"\",\"\",\"\",\"\",\"\",\"\",\"\",\"\",\"\",\"\",\"\",\"N\",\"\",\"\",\"\",\"\",\"\",\"\"\n",
            "\"\",\"\",\"16000\",\"16000\",\"16000\",\" 60 months\",\" 11.31%\",\"350.36\",\"B\",\"B3\",\"MATERIAL HANDLER\",\"5 years\",\"MORTGAGE\",\"72000\",\"Verified\",\"Jan-2019\",\"Current\",\"n\",\"\",\"\",\"debt_consolidation\",\"Debt consolidation\",\"850xx\",\"AZ\",\"7.02\",\"2\",\"Sep-2005\",\"0\",\"8\",\"64\",\"12\",\"1\",\"11882\",\"37.1%\",\"39\",\"w\",\"2907.09\",\"2907.09\",\"13792.11\",\"13792.11\",\"13092.91\",\"699.20\",\"0.0\",\"0.0\",\"0.0\",\"Jul-2019\",\"350.36\",\"Aug-2019\",\"Jul-2019\",\"0\",\"8\",\"1\",\"Individual\",\"\",\"\",\"\",\"0\",\"0\",\"225413\",\"0\",\"2\",\"0\",\"0\",\"28\",\"62953\",\"79\",\"0\",\"0\",\"5568\",\"45\",\"32000\",\"2\",\"2\",\"4\",\"1\",\"18784\",\"11705\",\"49.1\",\"2\",\"0\",\"159\",\"129\",\"25\",\"24\",\"3\",\"25\",\"\",\"1\",\"9\",\"2\",\"4\",\"5\",\"5\",\"9\",\"20\",\"9\",\"16\",\"5\",\"12\",\"0\",\"0\",\"2\",\"0\",\"94.3\",\"0\",\"1\",\"0\",\"251486\",\"74835\",\"23000\",\"63090\",\"\",\"\",\"\",\"\",\"\",\"\",\"\",\"\",\"\",\"\",\"\",\"N\",\"\",\"\",\"\",\"\",\"\",\"\",\"\",\"\",\"\",\"\",\"\",\"\",\"\",\"\",\"N\",\"\",\"\",\"\",\"\",\"\",\"\"\n",
            "\"\",\"\",\"29250\",\"29250\",\"29250\",\" 60 months\",\" 18.94%\",\"757.8\",\"D\",\"D2\",\"sr register csa\",\"7 years\",\"MORTGAGE\",\"65000\",\"Verified\",\"Jan-2019\",\"Current\",\"n\",\"\",\"\",\"debt_consolidation\",\"Debt consolidation\",\"774xx\",\"TX\",\"29.52\",\"0\",\"Jan-2011\",\"0\",\"\",\"\",\"20\",\"0\",\"38465\",\"69%\",\"22\",\"w\",\"27401.57\",\"27401.57\",\"4485.24\",\"4485.24\",\"1848.43\",\"2636.81\",\"0.0\",\"0.0\",\"0.0\",\"Jul-2019\",\"757.8\",\"Aug-2019\",\"Jul-2019\",\"0\",\"\",\"1\",\"Individual\",\"\",\"\",\"\",\"0\",\"0\",\"204764\",\"0\",\"1\",\"0\",\"1\",\"17\",\"20323\",\"79\",\"1\",\"3\",\"13874\",\"69\",\"55505\",\"0\",\"0\",\"0\",\"4\",\"10238\",\"2985\",\"87\",\"0\",\"0\",\"78\",\"95\",\"7\",\"7\",\"1\",\"19\",\"\",\"13\",\"\",\"0\",\"13\",\"18\",\"13\",\"13\",\"3\",\"18\",\"18\",\"18\",\"20\",\"\",\"0\",\"0\",\"1\",\"100\",\"76.9\",\"0\",\"0\",\"237833\",\"58788\",\"38800\",\"25728\",\"\",\"\",\"\",\"\",\"\",\"\",\"\",\"\",\"\",\"\",\"\",\"N\",\"\",\"\",\"\",\"\",\"\",\"\",\"\",\"\",\"\",\"\",\"\",\"\",\"\",\"\",\"N\",\"\",\"\",\"\",\"\",\"\",\"\"\n",
            "\n",
            "\n",
            "Total amount funded in policy code 1: 1928448350\n",
            "Total amount funded in policy code 2: 799382985\n"
          ],
          "name": "stdout"
        }
      ]
    },
    {
      "cell_type": "markdown",
      "metadata": {
        "id": "cF473DQBEJRF",
        "colab_type": "text"
      },
      "source": [
        "## Load Lending Club Data"
      ]
    },
    {
      "cell_type": "code",
      "metadata": {
        "id": "axdDD-KT1lSx",
        "colab_type": "code",
        "outputId": "b6107aef-392f-407f-b5df-1c208b5c7b6b",
        "colab": {
          "base_uri": "https://localhost:8080/",
          "height": 385
        }
      },
      "source": [
        "import pandas as pd\n",
        "\n",
        "df = pd.read_csv('LoanStats_2019Q1.csv', skiprows=1, skipfooter=2, engine='python')\n",
        "print(df.shape)\n",
        "df.head()"
      ],
      "execution_count": 0,
      "outputs": [
        {
          "output_type": "stream",
          "text": [
            "(115675, 144)\n"
          ],
          "name": "stdout"
        },
        {
          "output_type": "execute_result",
          "data": {
            "text/html": [
              "<div>\n",
              "<style scoped>\n",
              "    .dataframe tbody tr th:only-of-type {\n",
              "        vertical-align: middle;\n",
              "    }\n",
              "\n",
              "    .dataframe tbody tr th {\n",
              "        vertical-align: top;\n",
              "    }\n",
              "\n",
              "    .dataframe thead th {\n",
              "        text-align: right;\n",
              "    }\n",
              "</style>\n",
              "<table border=\"1\" class=\"dataframe\">\n",
              "  <thead>\n",
              "    <tr style=\"text-align: right;\">\n",
              "      <th></th>\n",
              "      <th>id</th>\n",
              "      <th>member_id</th>\n",
              "      <th>loan_amnt</th>\n",
              "      <th>funded_amnt</th>\n",
              "      <th>funded_amnt_inv</th>\n",
              "      <th>term</th>\n",
              "      <th>int_rate</th>\n",
              "      <th>installment</th>\n",
              "      <th>grade</th>\n",
              "      <th>sub_grade</th>\n",
              "      <th>emp_title</th>\n",
              "      <th>emp_length</th>\n",
              "      <th>home_ownership</th>\n",
              "      <th>annual_inc</th>\n",
              "      <th>verification_status</th>\n",
              "      <th>issue_d</th>\n",
              "      <th>loan_status</th>\n",
              "      <th>pymnt_plan</th>\n",
              "      <th>url</th>\n",
              "      <th>desc</th>\n",
              "      <th>purpose</th>\n",
              "      <th>title</th>\n",
              "      <th>zip_code</th>\n",
              "      <th>addr_state</th>\n",
              "      <th>dti</th>\n",
              "      <th>delinq_2yrs</th>\n",
              "      <th>earliest_cr_line</th>\n",
              "      <th>inq_last_6mths</th>\n",
              "      <th>mths_since_last_delinq</th>\n",
              "      <th>mths_since_last_record</th>\n",
              "      <th>open_acc</th>\n",
              "      <th>pub_rec</th>\n",
              "      <th>revol_bal</th>\n",
              "      <th>revol_util</th>\n",
              "      <th>total_acc</th>\n",
              "      <th>initial_list_status</th>\n",
              "      <th>out_prncp</th>\n",
              "      <th>out_prncp_inv</th>\n",
              "      <th>total_pymnt</th>\n",
              "      <th>total_pymnt_inv</th>\n",
              "      <th>...</th>\n",
              "      <th>percent_bc_gt_75</th>\n",
              "      <th>pub_rec_bankruptcies</th>\n",
              "      <th>tax_liens</th>\n",
              "      <th>tot_hi_cred_lim</th>\n",
              "      <th>total_bal_ex_mort</th>\n",
              "      <th>total_bc_limit</th>\n",
              "      <th>total_il_high_credit_limit</th>\n",
              "      <th>revol_bal_joint</th>\n",
              "      <th>sec_app_earliest_cr_line</th>\n",
              "      <th>sec_app_inq_last_6mths</th>\n",
              "      <th>sec_app_mort_acc</th>\n",
              "      <th>sec_app_open_acc</th>\n",
              "      <th>sec_app_revol_util</th>\n",
              "      <th>sec_app_open_act_il</th>\n",
              "      <th>sec_app_num_rev_accts</th>\n",
              "      <th>sec_app_chargeoff_within_12_mths</th>\n",
              "      <th>sec_app_collections_12_mths_ex_med</th>\n",
              "      <th>sec_app_mths_since_last_major_derog</th>\n",
              "      <th>hardship_flag</th>\n",
              "      <th>hardship_type</th>\n",
              "      <th>hardship_reason</th>\n",
              "      <th>hardship_status</th>\n",
              "      <th>deferral_term</th>\n",
              "      <th>hardship_amount</th>\n",
              "      <th>hardship_start_date</th>\n",
              "      <th>hardship_end_date</th>\n",
              "      <th>payment_plan_start_date</th>\n",
              "      <th>hardship_length</th>\n",
              "      <th>hardship_dpd</th>\n",
              "      <th>hardship_loan_status</th>\n",
              "      <th>orig_projected_additional_accrued_interest</th>\n",
              "      <th>hardship_payoff_balance_amount</th>\n",
              "      <th>hardship_last_payment_amount</th>\n",
              "      <th>debt_settlement_flag</th>\n",
              "      <th>debt_settlement_flag_date</th>\n",
              "      <th>settlement_status</th>\n",
              "      <th>settlement_date</th>\n",
              "      <th>settlement_amount</th>\n",
              "      <th>settlement_percentage</th>\n",
              "      <th>settlement_term</th>\n",
              "    </tr>\n",
              "  </thead>\n",
              "  <tbody>\n",
              "    <tr>\n",
              "      <th>0</th>\n",
              "      <td>NaN</td>\n",
              "      <td>NaN</td>\n",
              "      <td>20000</td>\n",
              "      <td>20000</td>\n",
              "      <td>20000</td>\n",
              "      <td>60 months</td>\n",
              "      <td>17.19%</td>\n",
              "      <td>499.10</td>\n",
              "      <td>C</td>\n",
              "      <td>C5</td>\n",
              "      <td>Front desk supervisor</td>\n",
              "      <td>6 years</td>\n",
              "      <td>RENT</td>\n",
              "      <td>47000.0</td>\n",
              "      <td>Source Verified</td>\n",
              "      <td>Mar-2019</td>\n",
              "      <td>Current</td>\n",
              "      <td>n</td>\n",
              "      <td>NaN</td>\n",
              "      <td>NaN</td>\n",
              "      <td>debt_consolidation</td>\n",
              "      <td>Debt consolidation</td>\n",
              "      <td>958xx</td>\n",
              "      <td>CA</td>\n",
              "      <td>14.02</td>\n",
              "      <td>0</td>\n",
              "      <td>Sep-2006</td>\n",
              "      <td>1</td>\n",
              "      <td>50.0</td>\n",
              "      <td>NaN</td>\n",
              "      <td>15</td>\n",
              "      <td>0</td>\n",
              "      <td>10687</td>\n",
              "      <td>19.7%</td>\n",
              "      <td>53</td>\n",
              "      <td>w</td>\n",
              "      <td>19031.49</td>\n",
              "      <td>19031.49</td>\n",
              "      <td>1958.20</td>\n",
              "      <td>1958.20</td>\n",
              "      <td>...</td>\n",
              "      <td>12.5</td>\n",
              "      <td>0</td>\n",
              "      <td>0</td>\n",
              "      <td>75824</td>\n",
              "      <td>31546</td>\n",
              "      <td>33800</td>\n",
              "      <td>21524</td>\n",
              "      <td>NaN</td>\n",
              "      <td>NaN</td>\n",
              "      <td>NaN</td>\n",
              "      <td>NaN</td>\n",
              "      <td>NaN</td>\n",
              "      <td>NaN</td>\n",
              "      <td>NaN</td>\n",
              "      <td>NaN</td>\n",
              "      <td>NaN</td>\n",
              "      <td>NaN</td>\n",
              "      <td>NaN</td>\n",
              "      <td>N</td>\n",
              "      <td>NaN</td>\n",
              "      <td>NaN</td>\n",
              "      <td>NaN</td>\n",
              "      <td>NaN</td>\n",
              "      <td>NaN</td>\n",
              "      <td>NaN</td>\n",
              "      <td>NaN</td>\n",
              "      <td>NaN</td>\n",
              "      <td>NaN</td>\n",
              "      <td>NaN</td>\n",
              "      <td>NaN</td>\n",
              "      <td>NaN</td>\n",
              "      <td>NaN</td>\n",
              "      <td>NaN</td>\n",
              "      <td>N</td>\n",
              "      <td>NaN</td>\n",
              "      <td>NaN</td>\n",
              "      <td>NaN</td>\n",
              "      <td>NaN</td>\n",
              "      <td>NaN</td>\n",
              "      <td>NaN</td>\n",
              "    </tr>\n",
              "    <tr>\n",
              "      <th>1</th>\n",
              "      <td>NaN</td>\n",
              "      <td>NaN</td>\n",
              "      <td>21225</td>\n",
              "      <td>21225</td>\n",
              "      <td>21225</td>\n",
              "      <td>60 months</td>\n",
              "      <td>14.74%</td>\n",
              "      <td>502.05</td>\n",
              "      <td>C</td>\n",
              "      <td>C2</td>\n",
              "      <td>ceo</td>\n",
              "      <td>10+ years</td>\n",
              "      <td>MORTGAGE</td>\n",
              "      <td>225000.0</td>\n",
              "      <td>Not Verified</td>\n",
              "      <td>Mar-2019</td>\n",
              "      <td>Current</td>\n",
              "      <td>n</td>\n",
              "      <td>NaN</td>\n",
              "      <td>NaN</td>\n",
              "      <td>credit_card</td>\n",
              "      <td>Credit card refinancing</td>\n",
              "      <td>956xx</td>\n",
              "      <td>CA</td>\n",
              "      <td>16.80</td>\n",
              "      <td>0</td>\n",
              "      <td>Sep-1994</td>\n",
              "      <td>2</td>\n",
              "      <td>NaN</td>\n",
              "      <td>110.0</td>\n",
              "      <td>14</td>\n",
              "      <td>1</td>\n",
              "      <td>95868</td>\n",
              "      <td>87.7%</td>\n",
              "      <td>22</td>\n",
              "      <td>w</td>\n",
              "      <td>20492.06</td>\n",
              "      <td>20492.06</td>\n",
              "      <td>1471.39</td>\n",
              "      <td>1471.39</td>\n",
              "      <td>...</td>\n",
              "      <td>50.0</td>\n",
              "      <td>1</td>\n",
              "      <td>0</td>\n",
              "      <td>747075</td>\n",
              "      <td>209426</td>\n",
              "      <td>53500</td>\n",
              "      <td>128175</td>\n",
              "      <td>NaN</td>\n",
              "      <td>NaN</td>\n",
              "      <td>NaN</td>\n",
              "      <td>NaN</td>\n",
              "      <td>NaN</td>\n",
              "      <td>NaN</td>\n",
              "      <td>NaN</td>\n",
              "      <td>NaN</td>\n",
              "      <td>NaN</td>\n",
              "      <td>NaN</td>\n",
              "      <td>NaN</td>\n",
              "      <td>N</td>\n",
              "      <td>NaN</td>\n",
              "      <td>NaN</td>\n",
              "      <td>NaN</td>\n",
              "      <td>NaN</td>\n",
              "      <td>NaN</td>\n",
              "      <td>NaN</td>\n",
              "      <td>NaN</td>\n",
              "      <td>NaN</td>\n",
              "      <td>NaN</td>\n",
              "      <td>NaN</td>\n",
              "      <td>NaN</td>\n",
              "      <td>NaN</td>\n",
              "      <td>NaN</td>\n",
              "      <td>NaN</td>\n",
              "      <td>N</td>\n",
              "      <td>NaN</td>\n",
              "      <td>NaN</td>\n",
              "      <td>NaN</td>\n",
              "      <td>NaN</td>\n",
              "      <td>NaN</td>\n",
              "      <td>NaN</td>\n",
              "    </tr>\n",
              "    <tr>\n",
              "      <th>2</th>\n",
              "      <td>NaN</td>\n",
              "      <td>NaN</td>\n",
              "      <td>5000</td>\n",
              "      <td>5000</td>\n",
              "      <td>5000</td>\n",
              "      <td>36 months</td>\n",
              "      <td>17.97%</td>\n",
              "      <td>180.69</td>\n",
              "      <td>D</td>\n",
              "      <td>D1</td>\n",
              "      <td>NaN</td>\n",
              "      <td>NaN</td>\n",
              "      <td>MORTGAGE</td>\n",
              "      <td>62000.0</td>\n",
              "      <td>Not Verified</td>\n",
              "      <td>Mar-2019</td>\n",
              "      <td>Current</td>\n",
              "      <td>n</td>\n",
              "      <td>NaN</td>\n",
              "      <td>NaN</td>\n",
              "      <td>home_improvement</td>\n",
              "      <td>Home improvement</td>\n",
              "      <td>320xx</td>\n",
              "      <td>FL</td>\n",
              "      <td>19.82</td>\n",
              "      <td>1</td>\n",
              "      <td>Nov-1987</td>\n",
              "      <td>0</td>\n",
              "      <td>4.0</td>\n",
              "      <td>NaN</td>\n",
              "      <td>8</td>\n",
              "      <td>0</td>\n",
              "      <td>7285</td>\n",
              "      <td>77.5%</td>\n",
              "      <td>18</td>\n",
              "      <td>w</td>\n",
              "      <td>4677.78</td>\n",
              "      <td>4677.78</td>\n",
              "      <td>532.09</td>\n",
              "      <td>532.09</td>\n",
              "      <td>...</td>\n",
              "      <td>50.0</td>\n",
              "      <td>0</td>\n",
              "      <td>0</td>\n",
              "      <td>255738</td>\n",
              "      <td>31615</td>\n",
              "      <td>9400</td>\n",
              "      <td>39938</td>\n",
              "      <td>NaN</td>\n",
              "      <td>NaN</td>\n",
              "      <td>NaN</td>\n",
              "      <td>NaN</td>\n",
              "      <td>NaN</td>\n",
              "      <td>NaN</td>\n",
              "      <td>NaN</td>\n",
              "      <td>NaN</td>\n",
              "      <td>NaN</td>\n",
              "      <td>NaN</td>\n",
              "      <td>NaN</td>\n",
              "      <td>N</td>\n",
              "      <td>NaN</td>\n",
              "      <td>NaN</td>\n",
              "      <td>NaN</td>\n",
              "      <td>NaN</td>\n",
              "      <td>NaN</td>\n",
              "      <td>NaN</td>\n",
              "      <td>NaN</td>\n",
              "      <td>NaN</td>\n",
              "      <td>NaN</td>\n",
              "      <td>NaN</td>\n",
              "      <td>NaN</td>\n",
              "      <td>NaN</td>\n",
              "      <td>NaN</td>\n",
              "      <td>NaN</td>\n",
              "      <td>N</td>\n",
              "      <td>NaN</td>\n",
              "      <td>NaN</td>\n",
              "      <td>NaN</td>\n",
              "      <td>NaN</td>\n",
              "      <td>NaN</td>\n",
              "      <td>NaN</td>\n",
              "    </tr>\n",
              "    <tr>\n",
              "      <th>3</th>\n",
              "      <td>NaN</td>\n",
              "      <td>NaN</td>\n",
              "      <td>20000</td>\n",
              "      <td>20000</td>\n",
              "      <td>20000</td>\n",
              "      <td>36 months</td>\n",
              "      <td>8.19%</td>\n",
              "      <td>628.49</td>\n",
              "      <td>A</td>\n",
              "      <td>A4</td>\n",
              "      <td>Executive Director of Guardian Advantage</td>\n",
              "      <td>1 year</td>\n",
              "      <td>MORTGAGE</td>\n",
              "      <td>200000.0</td>\n",
              "      <td>Not Verified</td>\n",
              "      <td>Mar-2019</td>\n",
              "      <td>Current</td>\n",
              "      <td>n</td>\n",
              "      <td>NaN</td>\n",
              "      <td>NaN</td>\n",
              "      <td>credit_card</td>\n",
              "      <td>Credit card refinancing</td>\n",
              "      <td>190xx</td>\n",
              "      <td>PA</td>\n",
              "      <td>22.66</td>\n",
              "      <td>1</td>\n",
              "      <td>Oct-2001</td>\n",
              "      <td>0</td>\n",
              "      <td>18.0</td>\n",
              "      <td>NaN</td>\n",
              "      <td>20</td>\n",
              "      <td>0</td>\n",
              "      <td>20984</td>\n",
              "      <td>32.1%</td>\n",
              "      <td>49</td>\n",
              "      <td>w</td>\n",
              "      <td>18513.93</td>\n",
              "      <td>18513.93</td>\n",
              "      <td>1867.27</td>\n",
              "      <td>1867.27</td>\n",
              "      <td>...</td>\n",
              "      <td>22.2</td>\n",
              "      <td>0</td>\n",
              "      <td>0</td>\n",
              "      <td>448069</td>\n",
              "      <td>84744</td>\n",
              "      <td>49400</td>\n",
              "      <td>105180</td>\n",
              "      <td>NaN</td>\n",
              "      <td>NaN</td>\n",
              "      <td>NaN</td>\n",
              "      <td>NaN</td>\n",
              "      <td>NaN</td>\n",
              "      <td>NaN</td>\n",
              "      <td>NaN</td>\n",
              "      <td>NaN</td>\n",
              "      <td>NaN</td>\n",
              "      <td>NaN</td>\n",
              "      <td>NaN</td>\n",
              "      <td>N</td>\n",
              "      <td>NaN</td>\n",
              "      <td>NaN</td>\n",
              "      <td>NaN</td>\n",
              "      <td>NaN</td>\n",
              "      <td>NaN</td>\n",
              "      <td>NaN</td>\n",
              "      <td>NaN</td>\n",
              "      <td>NaN</td>\n",
              "      <td>NaN</td>\n",
              "      <td>NaN</td>\n",
              "      <td>NaN</td>\n",
              "      <td>NaN</td>\n",
              "      <td>NaN</td>\n",
              "      <td>NaN</td>\n",
              "      <td>N</td>\n",
              "      <td>NaN</td>\n",
              "      <td>NaN</td>\n",
              "      <td>NaN</td>\n",
              "      <td>NaN</td>\n",
              "      <td>NaN</td>\n",
              "      <td>NaN</td>\n",
              "    </tr>\n",
              "    <tr>\n",
              "      <th>4</th>\n",
              "      <td>NaN</td>\n",
              "      <td>NaN</td>\n",
              "      <td>12000</td>\n",
              "      <td>12000</td>\n",
              "      <td>12000</td>\n",
              "      <td>60 months</td>\n",
              "      <td>15.57%</td>\n",
              "      <td>289.09</td>\n",
              "      <td>C</td>\n",
              "      <td>C3</td>\n",
              "      <td>Computer Operator</td>\n",
              "      <td>5 years</td>\n",
              "      <td>MORTGAGE</td>\n",
              "      <td>49000.0</td>\n",
              "      <td>Source Verified</td>\n",
              "      <td>Mar-2019</td>\n",
              "      <td>Current</td>\n",
              "      <td>n</td>\n",
              "      <td>NaN</td>\n",
              "      <td>NaN</td>\n",
              "      <td>debt_consolidation</td>\n",
              "      <td>Debt consolidation</td>\n",
              "      <td>152xx</td>\n",
              "      <td>PA</td>\n",
              "      <td>13.47</td>\n",
              "      <td>0</td>\n",
              "      <td>Apr-1993</td>\n",
              "      <td>0</td>\n",
              "      <td>38.0</td>\n",
              "      <td>NaN</td>\n",
              "      <td>18</td>\n",
              "      <td>0</td>\n",
              "      <td>17672</td>\n",
              "      <td>48.2%</td>\n",
              "      <td>36</td>\n",
              "      <td>w</td>\n",
              "      <td>11594.62</td>\n",
              "      <td>11594.62</td>\n",
              "      <td>846.51</td>\n",
              "      <td>846.51</td>\n",
              "      <td>...</td>\n",
              "      <td>14.3</td>\n",
              "      <td>0</td>\n",
              "      <td>0</td>\n",
              "      <td>189260</td>\n",
              "      <td>106025</td>\n",
              "      <td>24400</td>\n",
              "      <td>68860</td>\n",
              "      <td>NaN</td>\n",
              "      <td>NaN</td>\n",
              "      <td>NaN</td>\n",
              "      <td>NaN</td>\n",
              "      <td>NaN</td>\n",
              "      <td>NaN</td>\n",
              "      <td>NaN</td>\n",
              "      <td>NaN</td>\n",
              "      <td>NaN</td>\n",
              "      <td>NaN</td>\n",
              "      <td>NaN</td>\n",
              "      <td>N</td>\n",
              "      <td>NaN</td>\n",
              "      <td>NaN</td>\n",
              "      <td>NaN</td>\n",
              "      <td>NaN</td>\n",
              "      <td>NaN</td>\n",
              "      <td>NaN</td>\n",
              "      <td>NaN</td>\n",
              "      <td>NaN</td>\n",
              "      <td>NaN</td>\n",
              "      <td>NaN</td>\n",
              "      <td>NaN</td>\n",
              "      <td>NaN</td>\n",
              "      <td>NaN</td>\n",
              "      <td>NaN</td>\n",
              "      <td>N</td>\n",
              "      <td>NaN</td>\n",
              "      <td>NaN</td>\n",
              "      <td>NaN</td>\n",
              "      <td>NaN</td>\n",
              "      <td>NaN</td>\n",
              "      <td>NaN</td>\n",
              "    </tr>\n",
              "  </tbody>\n",
              "</table>\n",
              "<p>5 rows × 144 columns</p>\n",
              "</div>"
            ],
            "text/plain": [
              "   id  member_id  ...  settlement_percentage  settlement_term\n",
              "0 NaN        NaN  ...                    NaN              NaN\n",
              "1 NaN        NaN  ...                    NaN              NaN\n",
              "2 NaN        NaN  ...                    NaN              NaN\n",
              "3 NaN        NaN  ...                    NaN              NaN\n",
              "4 NaN        NaN  ...                    NaN              NaN\n",
              "\n",
              "[5 rows x 144 columns]"
            ]
          },
          "metadata": {
            "tags": []
          },
          "execution_count": 6
        }
      ]
    },
    {
      "cell_type": "code",
      "metadata": {
        "id": "oSv8wUrg1sox",
        "colab_type": "code",
        "outputId": "c09afcd6-3362-4a4a-99ac-0e534bb026fd",
        "colab": {
          "base_uri": "https://localhost:8080/",
          "height": 1000
        }
      },
      "source": [
        "df.isna().sum()"
      ],
      "execution_count": 0,
      "outputs": [
        {
          "output_type": "execute_result",
          "data": {
            "text/plain": [
              "id                                            115675\n",
              "member_id                                     115675\n",
              "loan_amnt                                          0\n",
              "funded_amnt                                        0\n",
              "funded_amnt_inv                                    0\n",
              "term                                               0\n",
              "int_rate                                           0\n",
              "installment                                        0\n",
              "grade                                              0\n",
              "sub_grade                                          0\n",
              "emp_title                                      19518\n",
              "emp_length                                     11101\n",
              "home_ownership                                     0\n",
              "annual_inc                                         0\n",
              "verification_status                                0\n",
              "issue_d                                            0\n",
              "loan_status                                        0\n",
              "pymnt_plan                                         0\n",
              "url                                           115675\n",
              "desc                                          115675\n",
              "purpose                                            0\n",
              "title                                              0\n",
              "zip_code                                           0\n",
              "addr_state                                         0\n",
              "dti                                              257\n",
              "delinq_2yrs                                        0\n",
              "earliest_cr_line                                   0\n",
              "inq_last_6mths                                     0\n",
              "mths_since_last_delinq                         65799\n",
              "mths_since_last_record                        102252\n",
              "                                               ...  \n",
              "sec_app_mort_acc                               98994\n",
              "sec_app_open_acc                               98994\n",
              "sec_app_revol_util                             99224\n",
              "sec_app_open_act_il                            98994\n",
              "sec_app_num_rev_accts                          98994\n",
              "sec_app_chargeoff_within_12_mths               98994\n",
              "sec_app_collections_12_mths_ex_med             98994\n",
              "sec_app_mths_since_last_major_derog           110774\n",
              "hardship_flag                                      0\n",
              "hardship_type                                 115674\n",
              "hardship_reason                               115674\n",
              "hardship_status                               115674\n",
              "deferral_term                                 115674\n",
              "hardship_amount                               115674\n",
              "hardship_start_date                           115674\n",
              "hardship_end_date                             115674\n",
              "payment_plan_start_date                       115674\n",
              "hardship_length                               115674\n",
              "hardship_dpd                                  115674\n",
              "hardship_loan_status                          115674\n",
              "orig_projected_additional_accrued_interest    115674\n",
              "hardship_payoff_balance_amount                115674\n",
              "hardship_last_payment_amount                  115674\n",
              "debt_settlement_flag                               0\n",
              "debt_settlement_flag_date                     115669\n",
              "settlement_status                             115669\n",
              "settlement_date                               115669\n",
              "settlement_amount                             115669\n",
              "settlement_percentage                         115669\n",
              "settlement_term                               115669\n",
              "Length: 144, dtype: int64"
            ]
          },
          "metadata": {
            "tags": []
          },
          "execution_count": 7
        }
      ]
    },
    {
      "cell_type": "code",
      "metadata": {
        "id": "ORLuxU1O1znr",
        "colab_type": "code",
        "outputId": "9d1084af-c4d9-4a45-b8ef-6f8a146149f7",
        "colab": {
          "base_uri": "https://localhost:8080/",
          "height": 97
        }
      },
      "source": [
        "df[df.loan_amnt.isna()]"
      ],
      "execution_count": 0,
      "outputs": [
        {
          "output_type": "execute_result",
          "data": {
            "text/html": [
              "<div>\n",
              "<style scoped>\n",
              "    .dataframe tbody tr th:only-of-type {\n",
              "        vertical-align: middle;\n",
              "    }\n",
              "\n",
              "    .dataframe tbody tr th {\n",
              "        vertical-align: top;\n",
              "    }\n",
              "\n",
              "    .dataframe thead th {\n",
              "        text-align: right;\n",
              "    }\n",
              "</style>\n",
              "<table border=\"1\" class=\"dataframe\">\n",
              "  <thead>\n",
              "    <tr style=\"text-align: right;\">\n",
              "      <th></th>\n",
              "      <th>id</th>\n",
              "      <th>member_id</th>\n",
              "      <th>loan_amnt</th>\n",
              "      <th>funded_amnt</th>\n",
              "      <th>funded_amnt_inv</th>\n",
              "      <th>term</th>\n",
              "      <th>int_rate</th>\n",
              "      <th>installment</th>\n",
              "      <th>grade</th>\n",
              "      <th>sub_grade</th>\n",
              "      <th>emp_title</th>\n",
              "      <th>emp_length</th>\n",
              "      <th>home_ownership</th>\n",
              "      <th>annual_inc</th>\n",
              "      <th>verification_status</th>\n",
              "      <th>issue_d</th>\n",
              "      <th>loan_status</th>\n",
              "      <th>pymnt_plan</th>\n",
              "      <th>url</th>\n",
              "      <th>desc</th>\n",
              "      <th>purpose</th>\n",
              "      <th>title</th>\n",
              "      <th>zip_code</th>\n",
              "      <th>addr_state</th>\n",
              "      <th>dti</th>\n",
              "      <th>delinq_2yrs</th>\n",
              "      <th>earliest_cr_line</th>\n",
              "      <th>inq_last_6mths</th>\n",
              "      <th>mths_since_last_delinq</th>\n",
              "      <th>mths_since_last_record</th>\n",
              "      <th>open_acc</th>\n",
              "      <th>pub_rec</th>\n",
              "      <th>revol_bal</th>\n",
              "      <th>revol_util</th>\n",
              "      <th>total_acc</th>\n",
              "      <th>initial_list_status</th>\n",
              "      <th>out_prncp</th>\n",
              "      <th>out_prncp_inv</th>\n",
              "      <th>total_pymnt</th>\n",
              "      <th>total_pymnt_inv</th>\n",
              "      <th>...</th>\n",
              "      <th>percent_bc_gt_75</th>\n",
              "      <th>pub_rec_bankruptcies</th>\n",
              "      <th>tax_liens</th>\n",
              "      <th>tot_hi_cred_lim</th>\n",
              "      <th>total_bal_ex_mort</th>\n",
              "      <th>total_bc_limit</th>\n",
              "      <th>total_il_high_credit_limit</th>\n",
              "      <th>revol_bal_joint</th>\n",
              "      <th>sec_app_earliest_cr_line</th>\n",
              "      <th>sec_app_inq_last_6mths</th>\n",
              "      <th>sec_app_mort_acc</th>\n",
              "      <th>sec_app_open_acc</th>\n",
              "      <th>sec_app_revol_util</th>\n",
              "      <th>sec_app_open_act_il</th>\n",
              "      <th>sec_app_num_rev_accts</th>\n",
              "      <th>sec_app_chargeoff_within_12_mths</th>\n",
              "      <th>sec_app_collections_12_mths_ex_med</th>\n",
              "      <th>sec_app_mths_since_last_major_derog</th>\n",
              "      <th>hardship_flag</th>\n",
              "      <th>hardship_type</th>\n",
              "      <th>hardship_reason</th>\n",
              "      <th>hardship_status</th>\n",
              "      <th>deferral_term</th>\n",
              "      <th>hardship_amount</th>\n",
              "      <th>hardship_start_date</th>\n",
              "      <th>hardship_end_date</th>\n",
              "      <th>payment_plan_start_date</th>\n",
              "      <th>hardship_length</th>\n",
              "      <th>hardship_dpd</th>\n",
              "      <th>hardship_loan_status</th>\n",
              "      <th>orig_projected_additional_accrued_interest</th>\n",
              "      <th>hardship_payoff_balance_amount</th>\n",
              "      <th>hardship_last_payment_amount</th>\n",
              "      <th>debt_settlement_flag</th>\n",
              "      <th>debt_settlement_flag_date</th>\n",
              "      <th>settlement_status</th>\n",
              "      <th>settlement_date</th>\n",
              "      <th>settlement_amount</th>\n",
              "      <th>settlement_percentage</th>\n",
              "      <th>settlement_term</th>\n",
              "    </tr>\n",
              "  </thead>\n",
              "  <tbody>\n",
              "  </tbody>\n",
              "</table>\n",
              "<p>0 rows × 144 columns</p>\n",
              "</div>"
            ],
            "text/plain": [
              "Empty DataFrame\n",
              "Columns: [id, member_id, loan_amnt, funded_amnt, funded_amnt_inv, term, int_rate, installment, grade, sub_grade, emp_title, emp_length, home_ownership, annual_inc, verification_status, issue_d, loan_status, pymnt_plan, url, desc, purpose, title, zip_code, addr_state, dti, delinq_2yrs, earliest_cr_line, inq_last_6mths, mths_since_last_delinq, mths_since_last_record, open_acc, pub_rec, revol_bal, revol_util, total_acc, initial_list_status, out_prncp, out_prncp_inv, total_pymnt, total_pymnt_inv, total_rec_prncp, total_rec_int, total_rec_late_fee, recoveries, collection_recovery_fee, last_pymnt_d, last_pymnt_amnt, next_pymnt_d, last_credit_pull_d, collections_12_mths_ex_med, mths_since_last_major_derog, policy_code, application_type, annual_inc_joint, dti_joint, verification_status_joint, acc_now_delinq, tot_coll_amt, tot_cur_bal, open_acc_6m, open_act_il, open_il_12m, open_il_24m, mths_since_rcnt_il, total_bal_il, il_util, open_rv_12m, open_rv_24m, max_bal_bc, all_util, total_rev_hi_lim, inq_fi, total_cu_tl, inq_last_12m, acc_open_past_24mths, avg_cur_bal, bc_open_to_buy, bc_util, chargeoff_within_12_mths, delinq_amnt, mo_sin_old_il_acct, mo_sin_old_rev_tl_op, mo_sin_rcnt_rev_tl_op, mo_sin_rcnt_tl, mort_acc, mths_since_recent_bc, mths_since_recent_bc_dlq, mths_since_recent_inq, mths_since_recent_revol_delinq, num_accts_ever_120_pd, num_actv_bc_tl, num_actv_rev_tl, num_bc_sats, num_bc_tl, num_il_tl, num_op_rev_tl, num_rev_accts, num_rev_tl_bal_gt_0, num_sats, num_tl_120dpd_2m, ...]\n",
              "Index: []\n",
              "\n",
              "[0 rows x 144 columns]"
            ]
          },
          "metadata": {
            "tags": []
          },
          "execution_count": 8
        }
      ]
    },
    {
      "cell_type": "code",
      "metadata": {
        "id": "Gn-6kQuA19Rn",
        "colab_type": "code",
        "outputId": "c80fc375-73b4-46ae-c645-4e5a7653a066",
        "colab": {
          "base_uri": "https://localhost:8080/",
          "height": 104
        }
      },
      "source": [
        "df.info()"
      ],
      "execution_count": 0,
      "outputs": [
        {
          "output_type": "stream",
          "text": [
            "<class 'pandas.core.frame.DataFrame'>\n",
            "RangeIndex: 115675 entries, 0 to 115674\n",
            "Columns: 144 entries, id to settlement_term\n",
            "dtypes: float64(56), int64(52), object(36)\n",
            "memory usage: 127.1+ MB\n"
          ],
          "name": "stdout"
        }
      ]
    },
    {
      "cell_type": "code",
      "metadata": {
        "id": "dniCQBxo2DqP",
        "colab_type": "code",
        "colab": {}
      },
      "source": [
        "pd.options.display.max_columns = 150\n",
        "pd.options.display.max_columns = 150"
      ],
      "execution_count": 0,
      "outputs": []
    },
    {
      "cell_type": "code",
      "metadata": {
        "id": "__TXmiRG2O9J",
        "colab_type": "code",
        "outputId": "924acea0-85f9-4b99-a414-9aa17374819e",
        "colab": {
          "base_uri": "https://localhost:8080/",
          "height": 1000
        }
      },
      "source": [
        "df.head().T"
      ],
      "execution_count": 0,
      "outputs": [
        {
          "output_type": "execute_result",
          "data": {
            "text/html": [
              "<div>\n",
              "<style scoped>\n",
              "    .dataframe tbody tr th:only-of-type {\n",
              "        vertical-align: middle;\n",
              "    }\n",
              "\n",
              "    .dataframe tbody tr th {\n",
              "        vertical-align: top;\n",
              "    }\n",
              "\n",
              "    .dataframe thead th {\n",
              "        text-align: right;\n",
              "    }\n",
              "</style>\n",
              "<table border=\"1\" class=\"dataframe\">\n",
              "  <thead>\n",
              "    <tr style=\"text-align: right;\">\n",
              "      <th></th>\n",
              "      <th>0</th>\n",
              "      <th>1</th>\n",
              "      <th>2</th>\n",
              "      <th>3</th>\n",
              "      <th>4</th>\n",
              "    </tr>\n",
              "  </thead>\n",
              "  <tbody>\n",
              "    <tr>\n",
              "      <th>id</th>\n",
              "      <td>NaN</td>\n",
              "      <td>NaN</td>\n",
              "      <td>NaN</td>\n",
              "      <td>NaN</td>\n",
              "      <td>NaN</td>\n",
              "    </tr>\n",
              "    <tr>\n",
              "      <th>member_id</th>\n",
              "      <td>NaN</td>\n",
              "      <td>NaN</td>\n",
              "      <td>NaN</td>\n",
              "      <td>NaN</td>\n",
              "      <td>NaN</td>\n",
              "    </tr>\n",
              "    <tr>\n",
              "      <th>loan_amnt</th>\n",
              "      <td>20000</td>\n",
              "      <td>21225</td>\n",
              "      <td>5000</td>\n",
              "      <td>20000</td>\n",
              "      <td>12000</td>\n",
              "    </tr>\n",
              "    <tr>\n",
              "      <th>funded_amnt</th>\n",
              "      <td>20000</td>\n",
              "      <td>21225</td>\n",
              "      <td>5000</td>\n",
              "      <td>20000</td>\n",
              "      <td>12000</td>\n",
              "    </tr>\n",
              "    <tr>\n",
              "      <th>funded_amnt_inv</th>\n",
              "      <td>20000</td>\n",
              "      <td>21225</td>\n",
              "      <td>5000</td>\n",
              "      <td>20000</td>\n",
              "      <td>12000</td>\n",
              "    </tr>\n",
              "    <tr>\n",
              "      <th>term</th>\n",
              "      <td>60 months</td>\n",
              "      <td>60 months</td>\n",
              "      <td>36 months</td>\n",
              "      <td>36 months</td>\n",
              "      <td>60 months</td>\n",
              "    </tr>\n",
              "    <tr>\n",
              "      <th>int_rate</th>\n",
              "      <td>17.19%</td>\n",
              "      <td>14.74%</td>\n",
              "      <td>17.97%</td>\n",
              "      <td>8.19%</td>\n",
              "      <td>15.57%</td>\n",
              "    </tr>\n",
              "    <tr>\n",
              "      <th>installment</th>\n",
              "      <td>499.1</td>\n",
              "      <td>502.05</td>\n",
              "      <td>180.69</td>\n",
              "      <td>628.49</td>\n",
              "      <td>289.09</td>\n",
              "    </tr>\n",
              "    <tr>\n",
              "      <th>grade</th>\n",
              "      <td>C</td>\n",
              "      <td>C</td>\n",
              "      <td>D</td>\n",
              "      <td>A</td>\n",
              "      <td>C</td>\n",
              "    </tr>\n",
              "    <tr>\n",
              "      <th>sub_grade</th>\n",
              "      <td>C5</td>\n",
              "      <td>C2</td>\n",
              "      <td>D1</td>\n",
              "      <td>A4</td>\n",
              "      <td>C3</td>\n",
              "    </tr>\n",
              "    <tr>\n",
              "      <th>emp_title</th>\n",
              "      <td>Front desk supervisor</td>\n",
              "      <td>ceo</td>\n",
              "      <td>NaN</td>\n",
              "      <td>Executive Director of Guardian Advantage</td>\n",
              "      <td>Computer Operator</td>\n",
              "    </tr>\n",
              "    <tr>\n",
              "      <th>emp_length</th>\n",
              "      <td>6 years</td>\n",
              "      <td>10+ years</td>\n",
              "      <td>NaN</td>\n",
              "      <td>1 year</td>\n",
              "      <td>5 years</td>\n",
              "    </tr>\n",
              "    <tr>\n",
              "      <th>home_ownership</th>\n",
              "      <td>RENT</td>\n",
              "      <td>MORTGAGE</td>\n",
              "      <td>MORTGAGE</td>\n",
              "      <td>MORTGAGE</td>\n",
              "      <td>MORTGAGE</td>\n",
              "    </tr>\n",
              "    <tr>\n",
              "      <th>annual_inc</th>\n",
              "      <td>47000</td>\n",
              "      <td>225000</td>\n",
              "      <td>62000</td>\n",
              "      <td>200000</td>\n",
              "      <td>49000</td>\n",
              "    </tr>\n",
              "    <tr>\n",
              "      <th>verification_status</th>\n",
              "      <td>Source Verified</td>\n",
              "      <td>Not Verified</td>\n",
              "      <td>Not Verified</td>\n",
              "      <td>Not Verified</td>\n",
              "      <td>Source Verified</td>\n",
              "    </tr>\n",
              "    <tr>\n",
              "      <th>issue_d</th>\n",
              "      <td>Mar-2019</td>\n",
              "      <td>Mar-2019</td>\n",
              "      <td>Mar-2019</td>\n",
              "      <td>Mar-2019</td>\n",
              "      <td>Mar-2019</td>\n",
              "    </tr>\n",
              "    <tr>\n",
              "      <th>loan_status</th>\n",
              "      <td>Current</td>\n",
              "      <td>Current</td>\n",
              "      <td>Current</td>\n",
              "      <td>Current</td>\n",
              "      <td>Current</td>\n",
              "    </tr>\n",
              "    <tr>\n",
              "      <th>pymnt_plan</th>\n",
              "      <td>n</td>\n",
              "      <td>n</td>\n",
              "      <td>n</td>\n",
              "      <td>n</td>\n",
              "      <td>n</td>\n",
              "    </tr>\n",
              "    <tr>\n",
              "      <th>url</th>\n",
              "      <td>NaN</td>\n",
              "      <td>NaN</td>\n",
              "      <td>NaN</td>\n",
              "      <td>NaN</td>\n",
              "      <td>NaN</td>\n",
              "    </tr>\n",
              "    <tr>\n",
              "      <th>desc</th>\n",
              "      <td>NaN</td>\n",
              "      <td>NaN</td>\n",
              "      <td>NaN</td>\n",
              "      <td>NaN</td>\n",
              "      <td>NaN</td>\n",
              "    </tr>\n",
              "    <tr>\n",
              "      <th>purpose</th>\n",
              "      <td>debt_consolidation</td>\n",
              "      <td>credit_card</td>\n",
              "      <td>home_improvement</td>\n",
              "      <td>credit_card</td>\n",
              "      <td>debt_consolidation</td>\n",
              "    </tr>\n",
              "    <tr>\n",
              "      <th>title</th>\n",
              "      <td>Debt consolidation</td>\n",
              "      <td>Credit card refinancing</td>\n",
              "      <td>Home improvement</td>\n",
              "      <td>Credit card refinancing</td>\n",
              "      <td>Debt consolidation</td>\n",
              "    </tr>\n",
              "    <tr>\n",
              "      <th>zip_code</th>\n",
              "      <td>958xx</td>\n",
              "      <td>956xx</td>\n",
              "      <td>320xx</td>\n",
              "      <td>190xx</td>\n",
              "      <td>152xx</td>\n",
              "    </tr>\n",
              "    <tr>\n",
              "      <th>addr_state</th>\n",
              "      <td>CA</td>\n",
              "      <td>CA</td>\n",
              "      <td>FL</td>\n",
              "      <td>PA</td>\n",
              "      <td>PA</td>\n",
              "    </tr>\n",
              "    <tr>\n",
              "      <th>dti</th>\n",
              "      <td>14.02</td>\n",
              "      <td>16.8</td>\n",
              "      <td>19.82</td>\n",
              "      <td>22.66</td>\n",
              "      <td>13.47</td>\n",
              "    </tr>\n",
              "    <tr>\n",
              "      <th>delinq_2yrs</th>\n",
              "      <td>0</td>\n",
              "      <td>0</td>\n",
              "      <td>1</td>\n",
              "      <td>1</td>\n",
              "      <td>0</td>\n",
              "    </tr>\n",
              "    <tr>\n",
              "      <th>earliest_cr_line</th>\n",
              "      <td>Sep-2006</td>\n",
              "      <td>Sep-1994</td>\n",
              "      <td>Nov-1987</td>\n",
              "      <td>Oct-2001</td>\n",
              "      <td>Apr-1993</td>\n",
              "    </tr>\n",
              "    <tr>\n",
              "      <th>inq_last_6mths</th>\n",
              "      <td>1</td>\n",
              "      <td>2</td>\n",
              "      <td>0</td>\n",
              "      <td>0</td>\n",
              "      <td>0</td>\n",
              "    </tr>\n",
              "    <tr>\n",
              "      <th>mths_since_last_delinq</th>\n",
              "      <td>50</td>\n",
              "      <td>NaN</td>\n",
              "      <td>4</td>\n",
              "      <td>18</td>\n",
              "      <td>38</td>\n",
              "    </tr>\n",
              "    <tr>\n",
              "      <th>mths_since_last_record</th>\n",
              "      <td>NaN</td>\n",
              "      <td>110</td>\n",
              "      <td>NaN</td>\n",
              "      <td>NaN</td>\n",
              "      <td>NaN</td>\n",
              "    </tr>\n",
              "    <tr>\n",
              "      <th>...</th>\n",
              "      <td>...</td>\n",
              "      <td>...</td>\n",
              "      <td>...</td>\n",
              "      <td>...</td>\n",
              "      <td>...</td>\n",
              "    </tr>\n",
              "    <tr>\n",
              "      <th>sec_app_mort_acc</th>\n",
              "      <td>NaN</td>\n",
              "      <td>NaN</td>\n",
              "      <td>NaN</td>\n",
              "      <td>NaN</td>\n",
              "      <td>NaN</td>\n",
              "    </tr>\n",
              "    <tr>\n",
              "      <th>sec_app_open_acc</th>\n",
              "      <td>NaN</td>\n",
              "      <td>NaN</td>\n",
              "      <td>NaN</td>\n",
              "      <td>NaN</td>\n",
              "      <td>NaN</td>\n",
              "    </tr>\n",
              "    <tr>\n",
              "      <th>sec_app_revol_util</th>\n",
              "      <td>NaN</td>\n",
              "      <td>NaN</td>\n",
              "      <td>NaN</td>\n",
              "      <td>NaN</td>\n",
              "      <td>NaN</td>\n",
              "    </tr>\n",
              "    <tr>\n",
              "      <th>sec_app_open_act_il</th>\n",
              "      <td>NaN</td>\n",
              "      <td>NaN</td>\n",
              "      <td>NaN</td>\n",
              "      <td>NaN</td>\n",
              "      <td>NaN</td>\n",
              "    </tr>\n",
              "    <tr>\n",
              "      <th>sec_app_num_rev_accts</th>\n",
              "      <td>NaN</td>\n",
              "      <td>NaN</td>\n",
              "      <td>NaN</td>\n",
              "      <td>NaN</td>\n",
              "      <td>NaN</td>\n",
              "    </tr>\n",
              "    <tr>\n",
              "      <th>sec_app_chargeoff_within_12_mths</th>\n",
              "      <td>NaN</td>\n",
              "      <td>NaN</td>\n",
              "      <td>NaN</td>\n",
              "      <td>NaN</td>\n",
              "      <td>NaN</td>\n",
              "    </tr>\n",
              "    <tr>\n",
              "      <th>sec_app_collections_12_mths_ex_med</th>\n",
              "      <td>NaN</td>\n",
              "      <td>NaN</td>\n",
              "      <td>NaN</td>\n",
              "      <td>NaN</td>\n",
              "      <td>NaN</td>\n",
              "    </tr>\n",
              "    <tr>\n",
              "      <th>sec_app_mths_since_last_major_derog</th>\n",
              "      <td>NaN</td>\n",
              "      <td>NaN</td>\n",
              "      <td>NaN</td>\n",
              "      <td>NaN</td>\n",
              "      <td>NaN</td>\n",
              "    </tr>\n",
              "    <tr>\n",
              "      <th>hardship_flag</th>\n",
              "      <td>N</td>\n",
              "      <td>N</td>\n",
              "      <td>N</td>\n",
              "      <td>N</td>\n",
              "      <td>N</td>\n",
              "    </tr>\n",
              "    <tr>\n",
              "      <th>hardship_type</th>\n",
              "      <td>NaN</td>\n",
              "      <td>NaN</td>\n",
              "      <td>NaN</td>\n",
              "      <td>NaN</td>\n",
              "      <td>NaN</td>\n",
              "    </tr>\n",
              "    <tr>\n",
              "      <th>hardship_reason</th>\n",
              "      <td>NaN</td>\n",
              "      <td>NaN</td>\n",
              "      <td>NaN</td>\n",
              "      <td>NaN</td>\n",
              "      <td>NaN</td>\n",
              "    </tr>\n",
              "    <tr>\n",
              "      <th>hardship_status</th>\n",
              "      <td>NaN</td>\n",
              "      <td>NaN</td>\n",
              "      <td>NaN</td>\n",
              "      <td>NaN</td>\n",
              "      <td>NaN</td>\n",
              "    </tr>\n",
              "    <tr>\n",
              "      <th>deferral_term</th>\n",
              "      <td>NaN</td>\n",
              "      <td>NaN</td>\n",
              "      <td>NaN</td>\n",
              "      <td>NaN</td>\n",
              "      <td>NaN</td>\n",
              "    </tr>\n",
              "    <tr>\n",
              "      <th>hardship_amount</th>\n",
              "      <td>NaN</td>\n",
              "      <td>NaN</td>\n",
              "      <td>NaN</td>\n",
              "      <td>NaN</td>\n",
              "      <td>NaN</td>\n",
              "    </tr>\n",
              "    <tr>\n",
              "      <th>hardship_start_date</th>\n",
              "      <td>NaN</td>\n",
              "      <td>NaN</td>\n",
              "      <td>NaN</td>\n",
              "      <td>NaN</td>\n",
              "      <td>NaN</td>\n",
              "    </tr>\n",
              "    <tr>\n",
              "      <th>hardship_end_date</th>\n",
              "      <td>NaN</td>\n",
              "      <td>NaN</td>\n",
              "      <td>NaN</td>\n",
              "      <td>NaN</td>\n",
              "      <td>NaN</td>\n",
              "    </tr>\n",
              "    <tr>\n",
              "      <th>payment_plan_start_date</th>\n",
              "      <td>NaN</td>\n",
              "      <td>NaN</td>\n",
              "      <td>NaN</td>\n",
              "      <td>NaN</td>\n",
              "      <td>NaN</td>\n",
              "    </tr>\n",
              "    <tr>\n",
              "      <th>hardship_length</th>\n",
              "      <td>NaN</td>\n",
              "      <td>NaN</td>\n",
              "      <td>NaN</td>\n",
              "      <td>NaN</td>\n",
              "      <td>NaN</td>\n",
              "    </tr>\n",
              "    <tr>\n",
              "      <th>hardship_dpd</th>\n",
              "      <td>NaN</td>\n",
              "      <td>NaN</td>\n",
              "      <td>NaN</td>\n",
              "      <td>NaN</td>\n",
              "      <td>NaN</td>\n",
              "    </tr>\n",
              "    <tr>\n",
              "      <th>hardship_loan_status</th>\n",
              "      <td>NaN</td>\n",
              "      <td>NaN</td>\n",
              "      <td>NaN</td>\n",
              "      <td>NaN</td>\n",
              "      <td>NaN</td>\n",
              "    </tr>\n",
              "    <tr>\n",
              "      <th>orig_projected_additional_accrued_interest</th>\n",
              "      <td>NaN</td>\n",
              "      <td>NaN</td>\n",
              "      <td>NaN</td>\n",
              "      <td>NaN</td>\n",
              "      <td>NaN</td>\n",
              "    </tr>\n",
              "    <tr>\n",
              "      <th>hardship_payoff_balance_amount</th>\n",
              "      <td>NaN</td>\n",
              "      <td>NaN</td>\n",
              "      <td>NaN</td>\n",
              "      <td>NaN</td>\n",
              "      <td>NaN</td>\n",
              "    </tr>\n",
              "    <tr>\n",
              "      <th>hardship_last_payment_amount</th>\n",
              "      <td>NaN</td>\n",
              "      <td>NaN</td>\n",
              "      <td>NaN</td>\n",
              "      <td>NaN</td>\n",
              "      <td>NaN</td>\n",
              "    </tr>\n",
              "    <tr>\n",
              "      <th>debt_settlement_flag</th>\n",
              "      <td>N</td>\n",
              "      <td>N</td>\n",
              "      <td>N</td>\n",
              "      <td>N</td>\n",
              "      <td>N</td>\n",
              "    </tr>\n",
              "    <tr>\n",
              "      <th>debt_settlement_flag_date</th>\n",
              "      <td>NaN</td>\n",
              "      <td>NaN</td>\n",
              "      <td>NaN</td>\n",
              "      <td>NaN</td>\n",
              "      <td>NaN</td>\n",
              "    </tr>\n",
              "    <tr>\n",
              "      <th>settlement_status</th>\n",
              "      <td>NaN</td>\n",
              "      <td>NaN</td>\n",
              "      <td>NaN</td>\n",
              "      <td>NaN</td>\n",
              "      <td>NaN</td>\n",
              "    </tr>\n",
              "    <tr>\n",
              "      <th>settlement_date</th>\n",
              "      <td>NaN</td>\n",
              "      <td>NaN</td>\n",
              "      <td>NaN</td>\n",
              "      <td>NaN</td>\n",
              "      <td>NaN</td>\n",
              "    </tr>\n",
              "    <tr>\n",
              "      <th>settlement_amount</th>\n",
              "      <td>NaN</td>\n",
              "      <td>NaN</td>\n",
              "      <td>NaN</td>\n",
              "      <td>NaN</td>\n",
              "      <td>NaN</td>\n",
              "    </tr>\n",
              "    <tr>\n",
              "      <th>settlement_percentage</th>\n",
              "      <td>NaN</td>\n",
              "      <td>NaN</td>\n",
              "      <td>NaN</td>\n",
              "      <td>NaN</td>\n",
              "      <td>NaN</td>\n",
              "    </tr>\n",
              "    <tr>\n",
              "      <th>settlement_term</th>\n",
              "      <td>NaN</td>\n",
              "      <td>NaN</td>\n",
              "      <td>NaN</td>\n",
              "      <td>NaN</td>\n",
              "      <td>NaN</td>\n",
              "    </tr>\n",
              "  </tbody>\n",
              "</table>\n",
              "<p>144 rows × 5 columns</p>\n",
              "</div>"
            ],
            "text/plain": [
              "                                                                0  \\\n",
              "id                                                            NaN   \n",
              "member_id                                                     NaN   \n",
              "loan_amnt                                                   20000   \n",
              "funded_amnt                                                 20000   \n",
              "funded_amnt_inv                                             20000   \n",
              "term                                                    60 months   \n",
              "int_rate                                                   17.19%   \n",
              "installment                                                 499.1   \n",
              "grade                                                           C   \n",
              "sub_grade                                                      C5   \n",
              "emp_title                                   Front desk supervisor   \n",
              "emp_length                                                6 years   \n",
              "home_ownership                                               RENT   \n",
              "annual_inc                                                  47000   \n",
              "verification_status                               Source Verified   \n",
              "issue_d                                                  Mar-2019   \n",
              "loan_status                                               Current   \n",
              "pymnt_plan                                                      n   \n",
              "url                                                           NaN   \n",
              "desc                                                          NaN   \n",
              "purpose                                        debt_consolidation   \n",
              "title                                          Debt consolidation   \n",
              "zip_code                                                    958xx   \n",
              "addr_state                                                     CA   \n",
              "dti                                                         14.02   \n",
              "delinq_2yrs                                                     0   \n",
              "earliest_cr_line                                         Sep-2006   \n",
              "inq_last_6mths                                                  1   \n",
              "mths_since_last_delinq                                         50   \n",
              "mths_since_last_record                                        NaN   \n",
              "...                                                           ...   \n",
              "sec_app_mort_acc                                              NaN   \n",
              "sec_app_open_acc                                              NaN   \n",
              "sec_app_revol_util                                            NaN   \n",
              "sec_app_open_act_il                                           NaN   \n",
              "sec_app_num_rev_accts                                         NaN   \n",
              "sec_app_chargeoff_within_12_mths                              NaN   \n",
              "sec_app_collections_12_mths_ex_med                            NaN   \n",
              "sec_app_mths_since_last_major_derog                           NaN   \n",
              "hardship_flag                                                   N   \n",
              "hardship_type                                                 NaN   \n",
              "hardship_reason                                               NaN   \n",
              "hardship_status                                               NaN   \n",
              "deferral_term                                                 NaN   \n",
              "hardship_amount                                               NaN   \n",
              "hardship_start_date                                           NaN   \n",
              "hardship_end_date                                             NaN   \n",
              "payment_plan_start_date                                       NaN   \n",
              "hardship_length                                               NaN   \n",
              "hardship_dpd                                                  NaN   \n",
              "hardship_loan_status                                          NaN   \n",
              "orig_projected_additional_accrued_interest                    NaN   \n",
              "hardship_payoff_balance_amount                                NaN   \n",
              "hardship_last_payment_amount                                  NaN   \n",
              "debt_settlement_flag                                            N   \n",
              "debt_settlement_flag_date                                     NaN   \n",
              "settlement_status                                             NaN   \n",
              "settlement_date                                               NaN   \n",
              "settlement_amount                                             NaN   \n",
              "settlement_percentage                                         NaN   \n",
              "settlement_term                                               NaN   \n",
              "\n",
              "                                                                  1  \\\n",
              "id                                                              NaN   \n",
              "member_id                                                       NaN   \n",
              "loan_amnt                                                     21225   \n",
              "funded_amnt                                                   21225   \n",
              "funded_amnt_inv                                               21225   \n",
              "term                                                      60 months   \n",
              "int_rate                                                     14.74%   \n",
              "installment                                                  502.05   \n",
              "grade                                                             C   \n",
              "sub_grade                                                        C2   \n",
              "emp_title                                                       ceo   \n",
              "emp_length                                                10+ years   \n",
              "home_ownership                                             MORTGAGE   \n",
              "annual_inc                                                   225000   \n",
              "verification_status                                    Not Verified   \n",
              "issue_d                                                    Mar-2019   \n",
              "loan_status                                                 Current   \n",
              "pymnt_plan                                                        n   \n",
              "url                                                             NaN   \n",
              "desc                                                            NaN   \n",
              "purpose                                                 credit_card   \n",
              "title                                       Credit card refinancing   \n",
              "zip_code                                                      956xx   \n",
              "addr_state                                                       CA   \n",
              "dti                                                            16.8   \n",
              "delinq_2yrs                                                       0   \n",
              "earliest_cr_line                                           Sep-1994   \n",
              "inq_last_6mths                                                    2   \n",
              "mths_since_last_delinq                                          NaN   \n",
              "mths_since_last_record                                          110   \n",
              "...                                                             ...   \n",
              "sec_app_mort_acc                                                NaN   \n",
              "sec_app_open_acc                                                NaN   \n",
              "sec_app_revol_util                                              NaN   \n",
              "sec_app_open_act_il                                             NaN   \n",
              "sec_app_num_rev_accts                                           NaN   \n",
              "sec_app_chargeoff_within_12_mths                                NaN   \n",
              "sec_app_collections_12_mths_ex_med                              NaN   \n",
              "sec_app_mths_since_last_major_derog                             NaN   \n",
              "hardship_flag                                                     N   \n",
              "hardship_type                                                   NaN   \n",
              "hardship_reason                                                 NaN   \n",
              "hardship_status                                                 NaN   \n",
              "deferral_term                                                   NaN   \n",
              "hardship_amount                                                 NaN   \n",
              "hardship_start_date                                             NaN   \n",
              "hardship_end_date                                               NaN   \n",
              "payment_plan_start_date                                         NaN   \n",
              "hardship_length                                                 NaN   \n",
              "hardship_dpd                                                    NaN   \n",
              "hardship_loan_status                                            NaN   \n",
              "orig_projected_additional_accrued_interest                      NaN   \n",
              "hardship_payoff_balance_amount                                  NaN   \n",
              "hardship_last_payment_amount                                    NaN   \n",
              "debt_settlement_flag                                              N   \n",
              "debt_settlement_flag_date                                       NaN   \n",
              "settlement_status                                               NaN   \n",
              "settlement_date                                                 NaN   \n",
              "settlement_amount                                               NaN   \n",
              "settlement_percentage                                           NaN   \n",
              "settlement_term                                                 NaN   \n",
              "\n",
              "                                                           2  \\\n",
              "id                                                       NaN   \n",
              "member_id                                                NaN   \n",
              "loan_amnt                                               5000   \n",
              "funded_amnt                                             5000   \n",
              "funded_amnt_inv                                         5000   \n",
              "term                                               36 months   \n",
              "int_rate                                              17.97%   \n",
              "installment                                           180.69   \n",
              "grade                                                      D   \n",
              "sub_grade                                                 D1   \n",
              "emp_title                                                NaN   \n",
              "emp_length                                               NaN   \n",
              "home_ownership                                      MORTGAGE   \n",
              "annual_inc                                             62000   \n",
              "verification_status                             Not Verified   \n",
              "issue_d                                             Mar-2019   \n",
              "loan_status                                          Current   \n",
              "pymnt_plan                                                 n   \n",
              "url                                                      NaN   \n",
              "desc                                                     NaN   \n",
              "purpose                                     home_improvement   \n",
              "title                                       Home improvement   \n",
              "zip_code                                               320xx   \n",
              "addr_state                                                FL   \n",
              "dti                                                    19.82   \n",
              "delinq_2yrs                                                1   \n",
              "earliest_cr_line                                    Nov-1987   \n",
              "inq_last_6mths                                             0   \n",
              "mths_since_last_delinq                                     4   \n",
              "mths_since_last_record                                   NaN   \n",
              "...                                                      ...   \n",
              "sec_app_mort_acc                                         NaN   \n",
              "sec_app_open_acc                                         NaN   \n",
              "sec_app_revol_util                                       NaN   \n",
              "sec_app_open_act_il                                      NaN   \n",
              "sec_app_num_rev_accts                                    NaN   \n",
              "sec_app_chargeoff_within_12_mths                         NaN   \n",
              "sec_app_collections_12_mths_ex_med                       NaN   \n",
              "sec_app_mths_since_last_major_derog                      NaN   \n",
              "hardship_flag                                              N   \n",
              "hardship_type                                            NaN   \n",
              "hardship_reason                                          NaN   \n",
              "hardship_status                                          NaN   \n",
              "deferral_term                                            NaN   \n",
              "hardship_amount                                          NaN   \n",
              "hardship_start_date                                      NaN   \n",
              "hardship_end_date                                        NaN   \n",
              "payment_plan_start_date                                  NaN   \n",
              "hardship_length                                          NaN   \n",
              "hardship_dpd                                             NaN   \n",
              "hardship_loan_status                                     NaN   \n",
              "orig_projected_additional_accrued_interest               NaN   \n",
              "hardship_payoff_balance_amount                           NaN   \n",
              "hardship_last_payment_amount                             NaN   \n",
              "debt_settlement_flag                                       N   \n",
              "debt_settlement_flag_date                                NaN   \n",
              "settlement_status                                        NaN   \n",
              "settlement_date                                          NaN   \n",
              "settlement_amount                                        NaN   \n",
              "settlement_percentage                                    NaN   \n",
              "settlement_term                                          NaN   \n",
              "\n",
              "                                                                                   3  \\\n",
              "id                                                                               NaN   \n",
              "member_id                                                                        NaN   \n",
              "loan_amnt                                                                      20000   \n",
              "funded_amnt                                                                    20000   \n",
              "funded_amnt_inv                                                                20000   \n",
              "term                                                                       36 months   \n",
              "int_rate                                                                       8.19%   \n",
              "installment                                                                   628.49   \n",
              "grade                                                                              A   \n",
              "sub_grade                                                                         A4   \n",
              "emp_title                                   Executive Director of Guardian Advantage   \n",
              "emp_length                                                                    1 year   \n",
              "home_ownership                                                              MORTGAGE   \n",
              "annual_inc                                                                    200000   \n",
              "verification_status                                                     Not Verified   \n",
              "issue_d                                                                     Mar-2019   \n",
              "loan_status                                                                  Current   \n",
              "pymnt_plan                                                                         n   \n",
              "url                                                                              NaN   \n",
              "desc                                                                             NaN   \n",
              "purpose                                                                  credit_card   \n",
              "title                                                        Credit card refinancing   \n",
              "zip_code                                                                       190xx   \n",
              "addr_state                                                                        PA   \n",
              "dti                                                                            22.66   \n",
              "delinq_2yrs                                                                        1   \n",
              "earliest_cr_line                                                            Oct-2001   \n",
              "inq_last_6mths                                                                     0   \n",
              "mths_since_last_delinq                                                            18   \n",
              "mths_since_last_record                                                           NaN   \n",
              "...                                                                              ...   \n",
              "sec_app_mort_acc                                                                 NaN   \n",
              "sec_app_open_acc                                                                 NaN   \n",
              "sec_app_revol_util                                                               NaN   \n",
              "sec_app_open_act_il                                                              NaN   \n",
              "sec_app_num_rev_accts                                                            NaN   \n",
              "sec_app_chargeoff_within_12_mths                                                 NaN   \n",
              "sec_app_collections_12_mths_ex_med                                               NaN   \n",
              "sec_app_mths_since_last_major_derog                                              NaN   \n",
              "hardship_flag                                                                      N   \n",
              "hardship_type                                                                    NaN   \n",
              "hardship_reason                                                                  NaN   \n",
              "hardship_status                                                                  NaN   \n",
              "deferral_term                                                                    NaN   \n",
              "hardship_amount                                                                  NaN   \n",
              "hardship_start_date                                                              NaN   \n",
              "hardship_end_date                                                                NaN   \n",
              "payment_plan_start_date                                                          NaN   \n",
              "hardship_length                                                                  NaN   \n",
              "hardship_dpd                                                                     NaN   \n",
              "hardship_loan_status                                                             NaN   \n",
              "orig_projected_additional_accrued_interest                                       NaN   \n",
              "hardship_payoff_balance_amount                                                   NaN   \n",
              "hardship_last_payment_amount                                                     NaN   \n",
              "debt_settlement_flag                                                               N   \n",
              "debt_settlement_flag_date                                                        NaN   \n",
              "settlement_status                                                                NaN   \n",
              "settlement_date                                                                  NaN   \n",
              "settlement_amount                                                                NaN   \n",
              "settlement_percentage                                                            NaN   \n",
              "settlement_term                                                                  NaN   \n",
              "\n",
              "                                                             4  \n",
              "id                                                         NaN  \n",
              "member_id                                                  NaN  \n",
              "loan_amnt                                                12000  \n",
              "funded_amnt                                              12000  \n",
              "funded_amnt_inv                                          12000  \n",
              "term                                                 60 months  \n",
              "int_rate                                                15.57%  \n",
              "installment                                             289.09  \n",
              "grade                                                        C  \n",
              "sub_grade                                                   C3  \n",
              "emp_title                                    Computer Operator  \n",
              "emp_length                                             5 years  \n",
              "home_ownership                                        MORTGAGE  \n",
              "annual_inc                                               49000  \n",
              "verification_status                            Source Verified  \n",
              "issue_d                                               Mar-2019  \n",
              "loan_status                                            Current  \n",
              "pymnt_plan                                                   n  \n",
              "url                                                        NaN  \n",
              "desc                                                       NaN  \n",
              "purpose                                     debt_consolidation  \n",
              "title                                       Debt consolidation  \n",
              "zip_code                                                 152xx  \n",
              "addr_state                                                  PA  \n",
              "dti                                                      13.47  \n",
              "delinq_2yrs                                                  0  \n",
              "earliest_cr_line                                      Apr-1993  \n",
              "inq_last_6mths                                               0  \n",
              "mths_since_last_delinq                                      38  \n",
              "mths_since_last_record                                     NaN  \n",
              "...                                                        ...  \n",
              "sec_app_mort_acc                                           NaN  \n",
              "sec_app_open_acc                                           NaN  \n",
              "sec_app_revol_util                                         NaN  \n",
              "sec_app_open_act_il                                        NaN  \n",
              "sec_app_num_rev_accts                                      NaN  \n",
              "sec_app_chargeoff_within_12_mths                           NaN  \n",
              "sec_app_collections_12_mths_ex_med                         NaN  \n",
              "sec_app_mths_since_last_major_derog                        NaN  \n",
              "hardship_flag                                                N  \n",
              "hardship_type                                              NaN  \n",
              "hardship_reason                                            NaN  \n",
              "hardship_status                                            NaN  \n",
              "deferral_term                                              NaN  \n",
              "hardship_amount                                            NaN  \n",
              "hardship_start_date                                        NaN  \n",
              "hardship_end_date                                          NaN  \n",
              "payment_plan_start_date                                    NaN  \n",
              "hardship_length                                            NaN  \n",
              "hardship_dpd                                               NaN  \n",
              "hardship_loan_status                                       NaN  \n",
              "orig_projected_additional_accrued_interest                 NaN  \n",
              "hardship_payoff_balance_amount                             NaN  \n",
              "hardship_last_payment_amount                               NaN  \n",
              "debt_settlement_flag                                         N  \n",
              "debt_settlement_flag_date                                  NaN  \n",
              "settlement_status                                          NaN  \n",
              "settlement_date                                            NaN  \n",
              "settlement_amount                                          NaN  \n",
              "settlement_percentage                                      NaN  \n",
              "settlement_term                                            NaN  \n",
              "\n",
              "[144 rows x 5 columns]"
            ]
          },
          "metadata": {
            "tags": []
          },
          "execution_count": 11
        }
      ]
    },
    {
      "cell_type": "markdown",
      "metadata": {
        "id": "6u-6zBzSEXaM",
        "colab_type": "text"
      },
      "source": [
        "## Work with strings"
      ]
    },
    {
      "cell_type": "code",
      "metadata": {
        "id": "gMkCUh3pEWeh",
        "colab_type": "code",
        "outputId": "581b45cb-ee96-4595-a05d-071f053f7239",
        "colab": {
          "base_uri": "https://localhost:8080/",
          "height": 240
        }
      },
      "source": [
        "# Which columns have a data type of \"object\" (strings)\n",
        "df.describe(include='object')"
      ],
      "execution_count": 0,
      "outputs": [
        {
          "output_type": "execute_result",
          "data": {
            "text/html": [
              "<div>\n",
              "<style scoped>\n",
              "    .dataframe tbody tr th:only-of-type {\n",
              "        vertical-align: middle;\n",
              "    }\n",
              "\n",
              "    .dataframe tbody tr th {\n",
              "        vertical-align: top;\n",
              "    }\n",
              "\n",
              "    .dataframe thead th {\n",
              "        text-align: right;\n",
              "    }\n",
              "</style>\n",
              "<table border=\"1\" class=\"dataframe\">\n",
              "  <thead>\n",
              "    <tr style=\"text-align: right;\">\n",
              "      <th></th>\n",
              "      <th>term</th>\n",
              "      <th>int_rate</th>\n",
              "      <th>grade</th>\n",
              "      <th>sub_grade</th>\n",
              "      <th>emp_title</th>\n",
              "      <th>emp_length</th>\n",
              "      <th>home_ownership</th>\n",
              "      <th>verification_status</th>\n",
              "      <th>issue_d</th>\n",
              "      <th>loan_status</th>\n",
              "      <th>pymnt_plan</th>\n",
              "      <th>purpose</th>\n",
              "      <th>title</th>\n",
              "      <th>zip_code</th>\n",
              "      <th>addr_state</th>\n",
              "      <th>earliest_cr_line</th>\n",
              "      <th>revol_util</th>\n",
              "      <th>initial_list_status</th>\n",
              "      <th>last_pymnt_d</th>\n",
              "      <th>next_pymnt_d</th>\n",
              "      <th>last_credit_pull_d</th>\n",
              "      <th>application_type</th>\n",
              "      <th>verification_status_joint</th>\n",
              "      <th>sec_app_earliest_cr_line</th>\n",
              "      <th>hardship_flag</th>\n",
              "      <th>hardship_type</th>\n",
              "      <th>hardship_reason</th>\n",
              "      <th>hardship_status</th>\n",
              "      <th>hardship_start_date</th>\n",
              "      <th>hardship_end_date</th>\n",
              "      <th>payment_plan_start_date</th>\n",
              "      <th>hardship_loan_status</th>\n",
              "      <th>debt_settlement_flag</th>\n",
              "      <th>debt_settlement_flag_date</th>\n",
              "      <th>settlement_status</th>\n",
              "      <th>settlement_date</th>\n",
              "    </tr>\n",
              "  </thead>\n",
              "  <tbody>\n",
              "    <tr>\n",
              "      <th>count</th>\n",
              "      <td>115675</td>\n",
              "      <td>115675</td>\n",
              "      <td>115675</td>\n",
              "      <td>115675</td>\n",
              "      <td>96157</td>\n",
              "      <td>104574</td>\n",
              "      <td>115675</td>\n",
              "      <td>115675</td>\n",
              "      <td>115675</td>\n",
              "      <td>115675</td>\n",
              "      <td>115675</td>\n",
              "      <td>115675</td>\n",
              "      <td>115675</td>\n",
              "      <td>115675</td>\n",
              "      <td>115675</td>\n",
              "      <td>115675</td>\n",
              "      <td>115546</td>\n",
              "      <td>115675</td>\n",
              "      <td>115447</td>\n",
              "      <td>109598</td>\n",
              "      <td>115673</td>\n",
              "      <td>115675</td>\n",
              "      <td>14624</td>\n",
              "      <td>16681</td>\n",
              "      <td>115675</td>\n",
              "      <td>1</td>\n",
              "      <td>1</td>\n",
              "      <td>1</td>\n",
              "      <td>1</td>\n",
              "      <td>1</td>\n",
              "      <td>1</td>\n",
              "      <td>1</td>\n",
              "      <td>115675</td>\n",
              "      <td>6</td>\n",
              "      <td>6</td>\n",
              "      <td>6</td>\n",
              "    </tr>\n",
              "    <tr>\n",
              "      <th>unique</th>\n",
              "      <td>2</td>\n",
              "      <td>53</td>\n",
              "      <td>7</td>\n",
              "      <td>33</td>\n",
              "      <td>39387</td>\n",
              "      <td>11</td>\n",
              "      <td>5</td>\n",
              "      <td>3</td>\n",
              "      <td>3</td>\n",
              "      <td>7</td>\n",
              "      <td>2</td>\n",
              "      <td>12</td>\n",
              "      <td>12</td>\n",
              "      <td>877</td>\n",
              "      <td>50</td>\n",
              "      <td>652</td>\n",
              "      <td>1055</td>\n",
              "      <td>2</td>\n",
              "      <td>7</td>\n",
              "      <td>3</td>\n",
              "      <td>8</td>\n",
              "      <td>2</td>\n",
              "      <td>3</td>\n",
              "      <td>577</td>\n",
              "      <td>2</td>\n",
              "      <td>1</td>\n",
              "      <td>1</td>\n",
              "      <td>1</td>\n",
              "      <td>1</td>\n",
              "      <td>1</td>\n",
              "      <td>1</td>\n",
              "      <td>1</td>\n",
              "      <td>2</td>\n",
              "      <td>2</td>\n",
              "      <td>1</td>\n",
              "      <td>2</td>\n",
              "    </tr>\n",
              "    <tr>\n",
              "      <th>top</th>\n",
              "      <td>36 months</td>\n",
              "      <td>8.19%</td>\n",
              "      <td>A</td>\n",
              "      <td>A4</td>\n",
              "      <td>Teacher</td>\n",
              "      <td>10+ years</td>\n",
              "      <td>MORTGAGE</td>\n",
              "      <td>Not Verified</td>\n",
              "      <td>Jan-2019</td>\n",
              "      <td>Current</td>\n",
              "      <td>n</td>\n",
              "      <td>debt_consolidation</td>\n",
              "      <td>Debt consolidation</td>\n",
              "      <td>750xx</td>\n",
              "      <td>CA</td>\n",
              "      <td>Aug-2006</td>\n",
              "      <td>0%</td>\n",
              "      <td>w</td>\n",
              "      <td>Jul-2019</td>\n",
              "      <td>Aug-2019</td>\n",
              "      <td>Jul-2019</td>\n",
              "      <td>Individual</td>\n",
              "      <td>Not Verified</td>\n",
              "      <td>Aug-2006</td>\n",
              "      <td>N</td>\n",
              "      <td>INTEREST ONLY-3 MONTHS DEFERRAL</td>\n",
              "      <td>INCOME_CURTAILMENT</td>\n",
              "      <td>ACTIVE</td>\n",
              "      <td>Jun-2019</td>\n",
              "      <td>Sep-2019</td>\n",
              "      <td>Jul-2019</td>\n",
              "      <td>In Grace Period</td>\n",
              "      <td>N</td>\n",
              "      <td>Jul-2019</td>\n",
              "      <td>ACTIVE</td>\n",
              "      <td>Jul-2019</td>\n",
              "    </tr>\n",
              "    <tr>\n",
              "      <th>freq</th>\n",
              "      <td>78429</td>\n",
              "      <td>11314</td>\n",
              "      <td>37060</td>\n",
              "      <td>11314</td>\n",
              "      <td>2037</td>\n",
              "      <td>34490</td>\n",
              "      <td>58578</td>\n",
              "      <td>54608</td>\n",
              "      <td>43584</td>\n",
              "      <td>107668</td>\n",
              "      <td>115674</td>\n",
              "      <td>63747</td>\n",
              "      <td>63747</td>\n",
              "      <td>1162</td>\n",
              "      <td>15902</td>\n",
              "      <td>1033</td>\n",
              "      <td>1054</td>\n",
              "      <td>101423</td>\n",
              "      <td>90255</td>\n",
              "      <td>84158</td>\n",
              "      <td>110426</td>\n",
              "      <td>98994</td>\n",
              "      <td>6395</td>\n",
              "      <td>150</td>\n",
              "      <td>115674</td>\n",
              "      <td>1</td>\n",
              "      <td>1</td>\n",
              "      <td>1</td>\n",
              "      <td>1</td>\n",
              "      <td>1</td>\n",
              "      <td>1</td>\n",
              "      <td>1</td>\n",
              "      <td>115669</td>\n",
              "      <td>5</td>\n",
              "      <td>6</td>\n",
              "      <td>5</td>\n",
              "    </tr>\n",
              "  </tbody>\n",
              "</table>\n",
              "</div>"
            ],
            "text/plain": [
              "              term int_rate   grade sub_grade emp_title emp_length  \\\n",
              "count       115675   115675  115675    115675     96157     104574   \n",
              "unique           2       53       7        33     39387         11   \n",
              "top      36 months    8.19%       A        A4   Teacher  10+ years   \n",
              "freq         78429    11314   37060     11314      2037      34490   \n",
              "\n",
              "       home_ownership verification_status   issue_d loan_status pymnt_plan  \\\n",
              "count          115675              115675    115675      115675     115675   \n",
              "unique              5                   3         3           7          2   \n",
              "top          MORTGAGE        Not Verified  Jan-2019     Current          n   \n",
              "freq            58578               54608     43584      107668     115674   \n",
              "\n",
              "                   purpose               title zip_code addr_state  \\\n",
              "count               115675              115675   115675     115675   \n",
              "unique                  12                  12      877         50   \n",
              "top     debt_consolidation  Debt consolidation    750xx         CA   \n",
              "freq                 63747               63747     1162      15902   \n",
              "\n",
              "       earliest_cr_line revol_util initial_list_status last_pymnt_d  \\\n",
              "count            115675     115546              115675       115447   \n",
              "unique              652       1055                   2            7   \n",
              "top            Aug-2006         0%                   w     Jul-2019   \n",
              "freq               1033       1054              101423        90255   \n",
              "\n",
              "       next_pymnt_d last_credit_pull_d application_type  \\\n",
              "count        109598             115673           115675   \n",
              "unique            3                  8                2   \n",
              "top        Aug-2019           Jul-2019       Individual   \n",
              "freq          84158             110426            98994   \n",
              "\n",
              "       verification_status_joint sec_app_earliest_cr_line hardship_flag  \\\n",
              "count                      14624                    16681        115675   \n",
              "unique                         3                      577             2   \n",
              "top                 Not Verified                 Aug-2006             N   \n",
              "freq                        6395                      150        115674   \n",
              "\n",
              "                          hardship_type     hardship_reason hardship_status  \\\n",
              "count                                 1                   1               1   \n",
              "unique                                1                   1               1   \n",
              "top     INTEREST ONLY-3 MONTHS DEFERRAL  INCOME_CURTAILMENT          ACTIVE   \n",
              "freq                                  1                   1               1   \n",
              "\n",
              "       hardship_start_date hardship_end_date payment_plan_start_date  \\\n",
              "count                    1                 1                       1   \n",
              "unique                   1                 1                       1   \n",
              "top               Jun-2019          Sep-2019                Jul-2019   \n",
              "freq                     1                 1                       1   \n",
              "\n",
              "       hardship_loan_status debt_settlement_flag debt_settlement_flag_date  \\\n",
              "count                     1               115675                         6   \n",
              "unique                    1                    2                         2   \n",
              "top         In Grace Period                    N                  Jul-2019   \n",
              "freq                      1               115669                         5   \n",
              "\n",
              "       settlement_status settlement_date  \n",
              "count                  6               6  \n",
              "unique                 1               2  \n",
              "top               ACTIVE        Jul-2019  \n",
              "freq                   6               5  "
            ]
          },
          "metadata": {
            "tags": []
          },
          "execution_count": 12
        }
      ]
    },
    {
      "cell_type": "code",
      "metadata": {
        "id": "Q0DdsTaPEgo_",
        "colab_type": "code",
        "outputId": "fc98cf34-2b3f-4370-acb1-4a649be4527c",
        "colab": {
          "base_uri": "https://localhost:8080/",
          "height": 224
        }
      },
      "source": [
        "# Lecture replication - length of employment\n",
        "df.emp_length.value_counts()"
      ],
      "execution_count": 0,
      "outputs": [
        {
          "output_type": "execute_result",
          "data": {
            "text/plain": [
              "10+ years    34490\n",
              "< 1 year     15044\n",
              "2 years       9695\n",
              "3 years       8719\n",
              "1 year        7919\n",
              "5 years       7189\n",
              "4 years       6777\n",
              "6 years       4636\n",
              "7 years       3913\n",
              "8 years       3625\n",
              "9 years       2567\n",
              "Name: emp_length, dtype: int64"
            ]
          },
          "metadata": {
            "tags": []
          },
          "execution_count": 13
        }
      ]
    },
    {
      "cell_type": "code",
      "metadata": {
        "id": "1vt4zfsv0oGC",
        "colab_type": "code",
        "outputId": "eaa3d50f-7e30-4492-b90e-ecc060c8b2d2",
        "colab": {
          "base_uri": "https://localhost:8080/",
          "height": 69
        }
      },
      "source": [
        "# 'Term' column \n",
        "df.term.value_counts()"
      ],
      "execution_count": 0,
      "outputs": [
        {
          "output_type": "execute_result",
          "data": {
            "text/plain": [
              " 36 months    78429\n",
              " 60 months    37246\n",
              "Name: term, dtype: int64"
            ]
          },
          "metadata": {
            "tags": []
          },
          "execution_count": 14
        }
      ]
    },
    {
      "cell_type": "markdown",
      "metadata": {
        "id": "D-_xIo9sGJ7H",
        "colab_type": "text"
      },
      "source": [
        "## Convert int_rate"
      ]
    },
    {
      "cell_type": "code",
      "metadata": {
        "id": "abxbBOKBGNUl",
        "colab_type": "code",
        "outputId": "7dada797-c278-46ea-90bc-5538ede9b178",
        "colab": {
          "base_uri": "https://localhost:8080/",
          "height": 34
        }
      },
      "source": [
        "# Test to make sure code works\n",
        "\n",
        "x = '12.5%'\n",
        "float(x.strip('%'))"
      ],
      "execution_count": 0,
      "outputs": [
        {
          "output_type": "execute_result",
          "data": {
            "text/plain": [
              "12.5"
            ]
          },
          "metadata": {
            "tags": []
          },
          "execution_count": 15
        }
      ]
    },
    {
      "cell_type": "code",
      "metadata": {
        "id": "_hrrvXsgGcpV",
        "colab_type": "code",
        "outputId": "19d87dc0-5d74-491b-842b-84392f747303",
        "colab": {
          "base_uri": "https://localhost:8080/",
          "height": 166
        }
      },
      "source": [
        "# This is a common mistake and will always throw an error\n",
        "float(x)"
      ],
      "execution_count": 0,
      "outputs": [
        {
          "output_type": "error",
          "ename": "ValueError",
          "evalue": "ignored",
          "traceback": [
            "\u001b[0;31m---------------------------------------------------------------------------\u001b[0m",
            "\u001b[0;31mValueError\u001b[0m                                Traceback (most recent call last)",
            "\u001b[0;32m<ipython-input-16-d8fb2b8f5513>\u001b[0m in \u001b[0;36m<module>\u001b[0;34m()\u001b[0m\n\u001b[0;32m----> 1\u001b[0;31m \u001b[0mfloat\u001b[0m\u001b[0;34m(\u001b[0m\u001b[0mx\u001b[0m\u001b[0;34m)\u001b[0m\u001b[0;34m\u001b[0m\u001b[0;34m\u001b[0m\u001b[0m\n\u001b[0m",
            "\u001b[0;31mValueError\u001b[0m: could not convert string to float: '12.5%'"
          ]
        }
      ]
    },
    {
      "cell_type": "code",
      "metadata": {
        "id": "jv8tJdudGqEl",
        "colab_type": "code",
        "colab": {}
      },
      "source": [
        "# This code will allow you to change a string to a float by removing\n",
        "# the percentage sign and then changing the number to in the column\n",
        "# to a float\n",
        "df['int_rate'] = df['int_rate'].str.strip('%').astype(float)"
      ],
      "execution_count": 0,
      "outputs": []
    },
    {
      "cell_type": "code",
      "metadata": {
        "id": "eSRvAfI2HTpc",
        "colab_type": "code",
        "outputId": "2e1d083f-d539-49f7-c391-818114350952",
        "colab": {
          "base_uri": "https://localhost:8080/",
          "height": 121
        }
      },
      "source": [
        "# Check to make sure the code worked in the 'int rate' column\n",
        " \n",
        "df['int_rate'].head()"
      ],
      "execution_count": 0,
      "outputs": [
        {
          "output_type": "execute_result",
          "data": {
            "text/plain": [
              "0    17.19\n",
              "1    14.74\n",
              "2    17.97\n",
              "3     8.19\n",
              "4    15.57\n",
              "Name: int_rate, dtype: float64"
            ]
          },
          "metadata": {
            "tags": []
          },
          "execution_count": 19
        }
      ]
    },
    {
      "cell_type": "code",
      "metadata": {
        "id": "VL4SNhakFvYG",
        "colab_type": "code",
        "colab": {}
      },
      "source": [
        "# Convert the term column from string to integer"
      ],
      "execution_count": 0,
      "outputs": []
    },
    {
      "cell_type": "code",
      "metadata": {
        "id": "R8CXsnjDGfbN",
        "colab_type": "code",
        "colab": {}
      },
      "source": [
        "df['term'] = df['term'].str.strip('months').astype(float)"
      ],
      "execution_count": 0,
      "outputs": []
    },
    {
      "cell_type": "code",
      "metadata": {
        "id": "OrfGIC6uZSjU",
        "colab_type": "code",
        "outputId": "195f6a9b-e4c5-43e2-9b0b-61c7c2bd815f",
        "colab": {
          "base_uri": "https://localhost:8080/",
          "height": 121
        }
      },
      "source": [
        "df['term'].head()"
      ],
      "execution_count": 0,
      "outputs": [
        {
          "output_type": "execute_result",
          "data": {
            "text/plain": [
              "0    60.0\n",
              "1    60.0\n",
              "2    36.0\n",
              "3    36.0\n",
              "4    60.0\n",
              "Name: term, dtype: float64"
            ]
          },
          "metadata": {
            "tags": []
          },
          "execution_count": 22
        }
      ]
    },
    {
      "cell_type": "code",
      "metadata": {
        "id": "ds7MOBX3ZGuF",
        "colab_type": "code",
        "colab": {}
      },
      "source": [
        "# (Stretch Goal) There's one other column in the dataframe with percent signs. \n",
        "# Remove them and convert to floats.\n",
        "df['revol_util'] = df['revol_util'].str.strip('%').astype(float)"
      ],
      "execution_count": 0,
      "outputs": []
    },
    {
      "cell_type": "code",
      "metadata": {
        "id": "ZjqrylzvavM9",
        "colab_type": "code",
        "outputId": "f47c87b0-10c2-4002-f5da-ab57a01450f8",
        "colab": {
          "base_uri": "https://localhost:8080/",
          "height": 121
        }
      },
      "source": [
        "df['revol_util'].head()"
      ],
      "execution_count": 0,
      "outputs": [
        {
          "output_type": "execute_result",
          "data": {
            "text/plain": [
              "0    19.7\n",
              "1    87.7\n",
              "2    77.5\n",
              "3    32.1\n",
              "4    48.2\n",
              "Name: revol_util, dtype: float64"
            ]
          },
          "metadata": {
            "tags": []
          },
          "execution_count": 24
        }
      ]
    },
    {
      "cell_type": "markdown",
      "metadata": {
        "id": "HGxfsKQUbIwg",
        "colab_type": "text"
      },
      "source": [
        "## Clean emp_title"
      ]
    },
    {
      "cell_type": "code",
      "metadata": {
        "id": "05n3TdXma0aL",
        "colab_type": "code",
        "outputId": "ffa7cbaa-4ff4-4ae2-f5b4-36101c48e73e",
        "colab": {
          "base_uri": "https://localhost:8080/",
          "height": 380
        }
      },
      "source": [
        "# Look at the top 20 titles.\n",
        "df.emp_title.head(20)"
      ],
      "execution_count": 0,
      "outputs": [
        {
          "output_type": "execute_result",
          "data": {
            "text/plain": [
              "0                        Front desk supervisor\n",
              "1                                          ceo\n",
              "2                                          NaN\n",
              "3     Executive Director of Guardian Advantage\n",
              "4                            Computer Operator\n",
              "5                             Security officer\n",
              "6                   Vice President, Trade Show\n",
              "7                                          NaN\n",
              "8     Administrative Assistant/Legal Secretary\n",
              "9                                     Engineer\n",
              "10                               Social Worker\n",
              "11                                  QC Manager\n",
              "12                              Office Manager\n",
              "13                          Executive Director\n",
              "14                         Executive Assistant\n",
              "15                                 Case Packer\n",
              "16                     Chief Executive Officer\n",
              "17                              Station Agent \n",
              "18                         Electrical Engineer\n",
              "19                                       Fresh\n",
              "Name: emp_title, dtype: object"
            ]
          },
          "metadata": {
            "tags": []
          },
          "execution_count": 25
        }
      ]
    },
    {
      "cell_type": "code",
      "metadata": {
        "id": "Ks3-ottdGZAd",
        "colab_type": "code",
        "outputId": "208f5d5b-cb01-4805-a2fb-f6c823848eaa",
        "colab": {
          "base_uri": "https://localhost:8080/",
          "height": 34
        }
      },
      "source": [
        "# Look at number of unique employmee titles\n",
        "df.emp_title.nunique()"
      ],
      "execution_count": 0,
      "outputs": [
        {
          "output_type": "execute_result",
          "data": {
            "text/plain": [
              "39387"
            ]
          },
          "metadata": {
            "tags": []
          },
          "execution_count": 26
        }
      ]
    },
    {
      "cell_type": "code",
      "metadata": {
        "id": "6LDWBG2RGCU1",
        "colab_type": "code",
        "outputId": "be9af764-ac4b-446a-d930-37d32547c0aa",
        "colab": {
          "base_uri": "https://localhost:8080/",
          "height": 34
        }
      },
      "source": [
        "# How often is emp_title null\n",
        "df.emp_title.isna().sum()"
      ],
      "execution_count": 0,
      "outputs": [
        {
          "output_type": "execute_result",
          "data": {
            "text/plain": [
              "19518"
            ]
          },
          "metadata": {
            "tags": []
          },
          "execution_count": 27
        }
      ]
    },
    {
      "cell_type": "code",
      "metadata": {
        "id": "hM46bt_ZG9aN",
        "colab_type": "code",
        "outputId": "046d1c3c-991d-4725-cfcf-b1edde44b832",
        "colab": {
          "base_uri": "https://localhost:8080/",
          "height": 34
        }
      },
      "source": [
        "# Explore the percentage of unique emp titles\n",
        "# and the percentage of nulls\n",
        "df.shape"
      ],
      "execution_count": 0,
      "outputs": [
        {
          "output_type": "execute_result",
          "data": {
            "text/plain": [
              "(115675, 144)"
            ]
          },
          "metadata": {
            "tags": []
          },
          "execution_count": 28
        }
      ]
    },
    {
      "cell_type": "code",
      "metadata": {
        "id": "yigYRMmwe5EI",
        "colab_type": "code",
        "outputId": "0e07552d-5dab-4381-f906-f26b34daa240",
        "colab": {
          "base_uri": "https://localhost:8080/",
          "height": 34
        }
      },
      "source": [
        "# 34% of the employee titles are unique\n",
        "39387/115675"
      ],
      "execution_count": 0,
      "outputs": [
        {
          "output_type": "execute_result",
          "data": {
            "text/plain": [
              "0.3404970823427707"
            ]
          },
          "metadata": {
            "tags": []
          },
          "execution_count": 29
        }
      ]
    },
    {
      "cell_type": "code",
      "metadata": {
        "id": "GB_Ugcm5fKTI",
        "colab_type": "code",
        "outputId": "1e51410c-af54-4a99-cf21-99eb1cb4070e",
        "colab": {
          "base_uri": "https://localhost:8080/",
          "height": 34
        }
      },
      "source": [
        "# 16% of emp_title values are null\n",
        "19518/115675"
      ],
      "execution_count": 0,
      "outputs": [
        {
          "output_type": "execute_result",
          "data": {
            "text/plain": [
              "0.1687313594121461"
            ]
          },
          "metadata": {
            "tags": []
          },
          "execution_count": 30
        }
      ]
    },
    {
      "cell_type": "markdown",
      "metadata": {
        "id": "k_fZjgWLfnFo",
        "colab_type": "text"
      },
      "source": [
        "Clean the title and handle missing values\n",
        "- Capitalize\n",
        "- Strip spaces\n",
        "- Replace 'NaN' with missing"
      ]
    },
    {
      "cell_type": "code",
      "metadata": {
        "id": "C80nC5qFfqCV",
        "colab_type": "code",
        "outputId": "8278c58d-95ab-4290-f2b2-b00380f98ea0",
        "colab": {
          "base_uri": "https://localhost:8080/",
          "height": 34
        }
      },
      "source": [
        "import numpy as np\n",
        "\n",
        "isinstance(np.nan, str)"
      ],
      "execution_count": 0,
      "outputs": [
        {
          "output_type": "execute_result",
          "data": {
            "text/plain": [
              "False"
            ]
          },
          "metadata": {
            "tags": []
          },
          "execution_count": 31
        }
      ]
    },
    {
      "cell_type": "code",
      "metadata": {
        "id": "TwoF1tQZf0ZX",
        "colab_type": "code",
        "outputId": "28329b54-0a1b-4f18-e099-5cc1dfa70355",
        "colab": {
          "base_uri": "https://localhost:8080/",
          "height": 34
        }
      },
      "source": [
        "# Test to make sure function will do as expected and clear the NaN's and \n",
        "# replace NaN with missing.\n",
        "\n",
        "example = ['owner', 'Supervisor ', ' Project manager', np.nan ]\n",
        "\n",
        "def clean_emp_title(x):\n",
        "  if isinstance(x, str):\n",
        "    return x.strip().title()\n",
        "  else:\n",
        "    return 'Missing'\n",
        "  \n",
        "# for ex in example:\n",
        "# print(clean_emp_title(ex))\n",
        "\n",
        "[clean_emp_title(x) for x in example]"
      ],
      "execution_count": 0,
      "outputs": [
        {
          "output_type": "execute_result",
          "data": {
            "text/plain": [
              "['Owner', 'Supervisor', 'Project Manager', 'Missing']"
            ]
          },
          "metadata": {
            "tags": []
          },
          "execution_count": 32
        }
      ]
    },
    {
      "cell_type": "code",
      "metadata": {
        "id": "pPX52c7Fh_Zi",
        "colab_type": "code",
        "outputId": "069e66fb-6217-4247-aab5-07fcf0e54ad7",
        "colab": {
          "base_uri": "https://localhost:8080/",
          "height": 380
        }
      },
      "source": [
        "# Using .apply command on the function to apply the function to the entire col.\n",
        "\n",
        "df['emp_title'] = df['emp_title'].apply(clean_emp_title)\n",
        "df['emp_title'].head(20)"
      ],
      "execution_count": 0,
      "outputs": [
        {
          "output_type": "execute_result",
          "data": {
            "text/plain": [
              "0                        Front Desk Supervisor\n",
              "1                                          Ceo\n",
              "2                                      Missing\n",
              "3     Executive Director Of Guardian Advantage\n",
              "4                            Computer Operator\n",
              "5                             Security Officer\n",
              "6                   Vice President, Trade Show\n",
              "7                                      Missing\n",
              "8     Administrative Assistant/Legal Secretary\n",
              "9                                     Engineer\n",
              "10                               Social Worker\n",
              "11                                  Qc Manager\n",
              "12                              Office Manager\n",
              "13                          Executive Director\n",
              "14                         Executive Assistant\n",
              "15                                 Case Packer\n",
              "16                     Chief Executive Officer\n",
              "17                               Station Agent\n",
              "18                         Electrical Engineer\n",
              "19                                       Fresh\n",
              "Name: emp_title, dtype: object"
            ]
          },
          "metadata": {
            "tags": []
          },
          "execution_count": 33
        }
      ]
    },
    {
      "cell_type": "code",
      "metadata": {
        "id": "Hxfl9BXyi6iZ",
        "colab_type": "code",
        "outputId": "f9cc7e12-fd5b-4f40-d2b9-63c0882d00fd",
        "colab": {
          "base_uri": "https://localhost:8080/",
          "height": 34
        }
      },
      "source": [
        "# Now how many unique titles do we have?\n",
        "df.emp_title.nunique()"
      ],
      "execution_count": 0,
      "outputs": [
        {
          "output_type": "execute_result",
          "data": {
            "text/plain": [
              "31429"
            ]
          },
          "metadata": {
            "tags": []
          },
          "execution_count": 34
        }
      ]
    },
    {
      "cell_type": "code",
      "metadata": {
        "id": "_XByyGF7jeIv",
        "colab_type": "code",
        "outputId": "44aa2496-056f-43f1-f513-cf185fdb95dc",
        "colab": {
          "base_uri": "https://localhost:8080/",
          "height": 34
        }
      },
      "source": [
        "# We reduced the amount of unique titles by:\n",
        "39387 - 31429"
      ],
      "execution_count": 0,
      "outputs": [
        {
          "output_type": "execute_result",
          "data": {
            "text/plain": [
              "7958"
            ]
          },
          "metadata": {
            "tags": []
          },
          "execution_count": 35
        }
      ]
    },
    {
      "cell_type": "code",
      "metadata": {
        "id": "hD0-w-fQjxAg",
        "colab_type": "code",
        "outputId": "8d8d2a45-006a-4d67-c445-8ba90e1a64a6",
        "colab": {
          "base_uri": "https://localhost:8080/",
          "height": 207
        }
      },
      "source": [
        "# The 19518 NaN's are now missing\n",
        "df.emp_title.value_counts().head(10)"
      ],
      "execution_count": 0,
      "outputs": [
        {
          "output_type": "execute_result",
          "data": {
            "text/plain": [
              "Missing             19518\n",
              "Teacher              2465\n",
              "Manager              2172\n",
              "Registered Nurse     1306\n",
              "Driver               1194\n",
              "Supervisor           1109\n",
              "Office Manager        834\n",
              "Sales                 806\n",
              "Truck Driver          767\n",
              "General Manager       737\n",
              "Name: emp_title, dtype: int64"
            ]
          },
          "metadata": {
            "tags": []
          },
          "execution_count": 36
        }
      ]
    },
    {
      "cell_type": "markdown",
      "metadata": {
        "id": "HXs-6pXnkNKQ",
        "colab_type": "text"
      },
      "source": [
        "## Create emp_title_manager column"
      ]
    },
    {
      "cell_type": "code",
      "metadata": {
        "id": "nO7zBGq-kTsS",
        "colab_type": "code",
        "outputId": "4c8d282e-3f1b-4156-c939-1dd4fba680c5",
        "colab": {
          "base_uri": "https://localhost:8080/",
          "height": 207
        }
      },
      "source": [
        "# Check to see if a string contains the word manager in the column\n",
        "df['emp_title'].str.contains('manager', case =False).head(10)"
      ],
      "execution_count": 0,
      "outputs": [
        {
          "output_type": "execute_result",
          "data": {
            "text/plain": [
              "0    False\n",
              "1    False\n",
              "2    False\n",
              "3    False\n",
              "4    False\n",
              "5    False\n",
              "6    False\n",
              "7    False\n",
              "8    False\n",
              "9    False\n",
              "Name: emp_title, dtype: bool"
            ]
          },
          "metadata": {
            "tags": []
          },
          "execution_count": 37
        }
      ]
    },
    {
      "cell_type": "code",
      "metadata": {
        "id": "9bLou9JPrxo9",
        "colab_type": "code",
        "outputId": "ed58f046-120b-403e-ee5d-3b8ce3cf30aa",
        "colab": {
          "base_uri": "https://localhost:8080/",
          "height": 207
        }
      },
      "source": [
        "# ^^ is not really helful.\n",
        "# Check to see if a string contains the word manager in the column using this code.\n",
        "df['emp_title'].iloc[0:10]"
      ],
      "execution_count": 0,
      "outputs": [
        {
          "output_type": "execute_result",
          "data": {
            "text/plain": [
              "0                       Front Desk Supervisor\n",
              "1                                         Ceo\n",
              "2                                     Missing\n",
              "3    Executive Director Of Guardian Advantage\n",
              "4                           Computer Operator\n",
              "5                            Security Officer\n",
              "6                  Vice President, Trade Show\n",
              "7                                     Missing\n",
              "8    Administrative Assistant/Legal Secretary\n",
              "9                                    Engineer\n",
              "Name: emp_title, dtype: object"
            ]
          },
          "metadata": {
            "tags": []
          },
          "execution_count": 38
        }
      ]
    },
    {
      "cell_type": "code",
      "metadata": {
        "id": "LsbnFpIksNsh",
        "colab_type": "code",
        "outputId": "09eaf89a-b6a1-48f0-a46a-649d12475221",
        "colab": {
          "base_uri": "https://localhost:8080/",
          "height": 69
        }
      },
      "source": [
        "# ^^ is a little more helpful but let's reign it in a bit more.\n",
        "# Make a new column for values with the word Manager in them\n",
        "# 15962 do,99713 do not\n",
        "\n",
        "df['emp_title_manager'] = df.emp_title.str.contains('Manager')\n",
        "df['emp_title_manager'].value_counts()"
      ],
      "execution_count": 0,
      "outputs": [
        {
          "output_type": "execute_result",
          "data": {
            "text/plain": [
              "False    99713\n",
              "True     15962\n",
              "Name: emp_title_manager, dtype: int64"
            ]
          },
          "metadata": {
            "tags": []
          },
          "execution_count": 39
        }
      ]
    },
    {
      "cell_type": "code",
      "metadata": {
        "id": "sjugFzi91mnj",
        "colab_type": "code",
        "colab": {}
      },
      "source": [
        ""
      ],
      "execution_count": 0,
      "outputs": []
    },
    {
      "cell_type": "code",
      "metadata": {
        "id": "Q3JzsvPJsCW2",
        "colab_type": "code",
        "outputId": "62c76b55-6e2a-458f-8919-14f8cfc65332",
        "colab": {
          "base_uri": "https://localhost:8080/",
          "height": 86
        }
      },
      "source": [
        "# Use groupby to check the mean int_rate of people with the emp_title manager\n",
        "df.groupby('emp_title_manager').int_rate.mean()"
      ],
      "execution_count": 0,
      "outputs": [
        {
          "output_type": "execute_result",
          "data": {
            "text/plain": [
              "emp_title_manager\n",
              "False    12.744044\n",
              "True     12.570085\n",
              "Name: int_rate, dtype: float64"
            ]
          },
          "metadata": {
            "tags": []
          },
          "execution_count": 40
        }
      ]
    },
    {
      "cell_type": "code",
      "metadata": {
        "id": "WTXzUoh9Fz39",
        "colab_type": "code",
        "colab": {}
      },
      "source": [
        "# Make a column named loan_status_is_great. It should contain the integer 1 if \n",
        "# loan_status is \"Current\" or \"Fully Paid.\" Else it should contain the integer 0.\n"
      ],
      "execution_count": 0,
      "outputs": []
    },
    {
      "cell_type": "code",
      "metadata": {
        "id": "PuN_1vv1Ui1l",
        "colab_type": "code",
        "outputId": "cbde1322-db28-4251-a3a5-a7fe72f515bc",
        "colab": {
          "base_uri": "https://localhost:8080/",
          "height": 34
        }
      },
      "source": [
        "[col for col in df if col.endswith('_d')]"
      ],
      "execution_count": 0,
      "outputs": [
        {
          "output_type": "execute_result",
          "data": {
            "text/plain": [
              "['issue_d', 'last_pymnt_d', 'next_pymnt_d', 'last_credit_pull_d']"
            ]
          },
          "metadata": {
            "tags": []
          },
          "execution_count": 54
        }
      ]
    },
    {
      "cell_type": "code",
      "metadata": {
        "id": "QBZjlPxqVIW2",
        "colab_type": "code",
        "colab": {}
      },
      "source": [
        "df['last_pymnt_d'] = pd.to_datetime(df['last_pymnt_d'])"
      ],
      "execution_count": 0,
      "outputs": []
    },
    {
      "cell_type": "code",
      "metadata": {
        "id": "c0aYIVMC5UvJ",
        "colab_type": "code",
        "colab": {}
      },
      "source": [
        "# Make last_pymnt_d_month and last_pymnt_d_year columns\n",
        "df['last_pymnt_d_month'] = df['last_pymnt_d'].dt.month\n",
        "df['last_pymnt_d_year'] = df['last_pymnt_d'].dt.year"
      ],
      "execution_count": 0,
      "outputs": []
    },
    {
      "cell_type": "markdown",
      "metadata": {
        "id": "B951J5rA0zDg",
        "colab_type": "text"
      },
      "source": [
        "# STRETCH OPTIONS\n",
        "\n",
        "You can do more with the LendingClub or Instacart datasets.\n",
        "\n",
        "LendingClub options:\n",
        "- There's one other column in the dataframe with percent signs. Remove them and convert to floats. You'll need to handle missing values.\n",
        "- Modify the `emp_title` column to replace titles with 'Other' if the title is not in the top 20. \n",
        "- Take initiatve and work on your own ideas!\n",
        "\n",
        "Instacart options:\n",
        "- Read [Instacart Market Basket Analysis, Winner's Interview: 2nd place, Kazuki Onodera](http://blog.kaggle.com/2017/09/21/instacart-market-basket-analysis-winners-interview-2nd-place-kazuki-onodera/), especially the **Feature Engineering** section. (Can you choose one feature from his bulleted lists, and try to engineer it with pandas code?)\n",
        "- Read and replicate parts of [Simple Exploration Notebook - Instacart](https://www.kaggle.com/sudalairajkumar/simple-exploration-notebook-instacart). (It's the Python Notebook with the most upvotes for this Kaggle competition.)\n",
        "- Take initiative and work on your own ideas!"
      ]
    },
    {
      "cell_type": "markdown",
      "metadata": {
        "id": "P6ERiTZj044p",
        "colab_type": "text"
      },
      "source": [
        "You can uncomment and run the cells below to re-download and extract the Instacart data"
      ]
    },
    {
      "cell_type": "code",
      "metadata": {
        "id": "abVXig3H086v",
        "colab_type": "code",
        "colab": {}
      },
      "source": [
        "# !wget https://s3.amazonaws.com/instacart-datasets/instacart_online_grocery_shopping_2017_05_01.tar.gz"
      ],
      "execution_count": 0,
      "outputs": []
    },
    {
      "cell_type": "code",
      "metadata": {
        "id": "rm2JqbPi1AVe",
        "colab_type": "code",
        "colab": {}
      },
      "source": [
        "# !tar --gunzip --extract --verbose --file=instacart_online_grocery_shopping_2017_05_01.tar.gz"
      ],
      "execution_count": 0,
      "outputs": []
    },
    {
      "cell_type": "code",
      "metadata": {
        "id": "nPNNgmf_1G2Y",
        "colab_type": "code",
        "colab": {}
      },
      "source": [
        "# %cd instacart_2017_05_01"
      ],
      "execution_count": 0,
      "outputs": []
    }
  ]
}